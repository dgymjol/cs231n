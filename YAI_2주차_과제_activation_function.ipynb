{
  "nbformat": 4,
  "nbformat_minor": 0,
  "metadata": {
    "kernelspec": {
      "display_name": "Python 3",
      "language": "python",
      "name": "python3"
    },
    "language_info": {
      "codemirror_mode": {
        "name": "ipython",
        "version": 3
      },
      "file_extension": ".py",
      "mimetype": "text/x-python",
      "name": "python",
      "nbconvert_exporter": "python",
      "pygments_lexer": "ipython3",
      "version": "3.8.5"
    },
    "colab": {
      "name": "YAI_2주차 과제_activation function",
      "provenance": [],
      "collapsed_sections": [
        "JhcqNwS4JrLF",
        "atH1wDx6J4P4",
        "FaTzesIsOPkE",
        "HypBuqJwOgxm"
      ],
      "include_colab_link": true
    },
    "accelerator": "GPU",
    "widgets": {
      "application/vnd.jupyter.widget-state+json": {
        "d16a40c2e0774e239898bbe606ff0892": {
          "model_module": "@jupyter-widgets/controls",
          "model_name": "HBoxModel",
          "state": {
            "_view_name": "HBoxView",
            "_dom_classes": [],
            "_model_name": "HBoxModel",
            "_view_module": "@jupyter-widgets/controls",
            "_model_module_version": "1.5.0",
            "_view_count": null,
            "_view_module_version": "1.5.0",
            "box_style": "",
            "layout": "IPY_MODEL_b1b3386fa9a2460eb6b0cc8be9821078",
            "_model_module": "@jupyter-widgets/controls",
            "children": [
              "IPY_MODEL_7288da115b0f4fdea2c1cb6edbcd1317",
              "IPY_MODEL_3fcaff1645ff4412a098560b024e21c3"
            ]
          }
        },
        "b1b3386fa9a2460eb6b0cc8be9821078": {
          "model_module": "@jupyter-widgets/base",
          "model_name": "LayoutModel",
          "state": {
            "_view_name": "LayoutView",
            "grid_template_rows": null,
            "right": null,
            "justify_content": null,
            "_view_module": "@jupyter-widgets/base",
            "overflow": null,
            "_model_module_version": "1.2.0",
            "_view_count": null,
            "flex_flow": null,
            "width": null,
            "min_width": null,
            "border": null,
            "align_items": null,
            "bottom": null,
            "_model_module": "@jupyter-widgets/base",
            "top": null,
            "grid_column": null,
            "overflow_y": null,
            "overflow_x": null,
            "grid_auto_flow": null,
            "grid_area": null,
            "grid_template_columns": null,
            "flex": null,
            "_model_name": "LayoutModel",
            "justify_items": null,
            "grid_row": null,
            "max_height": null,
            "align_content": null,
            "visibility": null,
            "align_self": null,
            "height": null,
            "min_height": null,
            "padding": null,
            "grid_auto_rows": null,
            "grid_gap": null,
            "max_width": null,
            "order": null,
            "_view_module_version": "1.2.0",
            "grid_template_areas": null,
            "object_position": null,
            "object_fit": null,
            "grid_auto_columns": null,
            "margin": null,
            "display": null,
            "left": null
          }
        },
        "7288da115b0f4fdea2c1cb6edbcd1317": {
          "model_module": "@jupyter-widgets/controls",
          "model_name": "FloatProgressModel",
          "state": {
            "_view_name": "ProgressView",
            "style": "IPY_MODEL_1bbbe755fa5143ad8a67590fc0f5376e",
            "_dom_classes": [],
            "description": "",
            "_model_name": "FloatProgressModel",
            "bar_style": "success",
            "max": 9912422,
            "_view_module": "@jupyter-widgets/controls",
            "_model_module_version": "1.5.0",
            "value": 9912422,
            "_view_count": null,
            "_view_module_version": "1.5.0",
            "orientation": "horizontal",
            "min": 0,
            "description_tooltip": null,
            "_model_module": "@jupyter-widgets/controls",
            "layout": "IPY_MODEL_ae4ac2bf95d94bdaa962871fd45ad6c3"
          }
        },
        "3fcaff1645ff4412a098560b024e21c3": {
          "model_module": "@jupyter-widgets/controls",
          "model_name": "HTMLModel",
          "state": {
            "_view_name": "HTMLView",
            "style": "IPY_MODEL_73f51603dd1e4571933154207e68951f",
            "_dom_classes": [],
            "description": "",
            "_model_name": "HTMLModel",
            "placeholder": "​",
            "_view_module": "@jupyter-widgets/controls",
            "_model_module_version": "1.5.0",
            "value": " 9913344/? [00:55&lt;00:00, 177987.44it/s]",
            "_view_count": null,
            "_view_module_version": "1.5.0",
            "description_tooltip": null,
            "_model_module": "@jupyter-widgets/controls",
            "layout": "IPY_MODEL_6a129516c4f3457cacfa9fbac07e3abf"
          }
        },
        "1bbbe755fa5143ad8a67590fc0f5376e": {
          "model_module": "@jupyter-widgets/controls",
          "model_name": "ProgressStyleModel",
          "state": {
            "_view_name": "StyleView",
            "_model_name": "ProgressStyleModel",
            "description_width": "initial",
            "_view_module": "@jupyter-widgets/base",
            "_model_module_version": "1.5.0",
            "_view_count": null,
            "_view_module_version": "1.2.0",
            "bar_color": null,
            "_model_module": "@jupyter-widgets/controls"
          }
        },
        "ae4ac2bf95d94bdaa962871fd45ad6c3": {
          "model_module": "@jupyter-widgets/base",
          "model_name": "LayoutModel",
          "state": {
            "_view_name": "LayoutView",
            "grid_template_rows": null,
            "right": null,
            "justify_content": null,
            "_view_module": "@jupyter-widgets/base",
            "overflow": null,
            "_model_module_version": "1.2.0",
            "_view_count": null,
            "flex_flow": null,
            "width": null,
            "min_width": null,
            "border": null,
            "align_items": null,
            "bottom": null,
            "_model_module": "@jupyter-widgets/base",
            "top": null,
            "grid_column": null,
            "overflow_y": null,
            "overflow_x": null,
            "grid_auto_flow": null,
            "grid_area": null,
            "grid_template_columns": null,
            "flex": null,
            "_model_name": "LayoutModel",
            "justify_items": null,
            "grid_row": null,
            "max_height": null,
            "align_content": null,
            "visibility": null,
            "align_self": null,
            "height": null,
            "min_height": null,
            "padding": null,
            "grid_auto_rows": null,
            "grid_gap": null,
            "max_width": null,
            "order": null,
            "_view_module_version": "1.2.0",
            "grid_template_areas": null,
            "object_position": null,
            "object_fit": null,
            "grid_auto_columns": null,
            "margin": null,
            "display": null,
            "left": null
          }
        },
        "73f51603dd1e4571933154207e68951f": {
          "model_module": "@jupyter-widgets/controls",
          "model_name": "DescriptionStyleModel",
          "state": {
            "_view_name": "StyleView",
            "_model_name": "DescriptionStyleModel",
            "description_width": "",
            "_view_module": "@jupyter-widgets/base",
            "_model_module_version": "1.5.0",
            "_view_count": null,
            "_view_module_version": "1.2.0",
            "_model_module": "@jupyter-widgets/controls"
          }
        },
        "6a129516c4f3457cacfa9fbac07e3abf": {
          "model_module": "@jupyter-widgets/base",
          "model_name": "LayoutModel",
          "state": {
            "_view_name": "LayoutView",
            "grid_template_rows": null,
            "right": null,
            "justify_content": null,
            "_view_module": "@jupyter-widgets/base",
            "overflow": null,
            "_model_module_version": "1.2.0",
            "_view_count": null,
            "flex_flow": null,
            "width": null,
            "min_width": null,
            "border": null,
            "align_items": null,
            "bottom": null,
            "_model_module": "@jupyter-widgets/base",
            "top": null,
            "grid_column": null,
            "overflow_y": null,
            "overflow_x": null,
            "grid_auto_flow": null,
            "grid_area": null,
            "grid_template_columns": null,
            "flex": null,
            "_model_name": "LayoutModel",
            "justify_items": null,
            "grid_row": null,
            "max_height": null,
            "align_content": null,
            "visibility": null,
            "align_self": null,
            "height": null,
            "min_height": null,
            "padding": null,
            "grid_auto_rows": null,
            "grid_gap": null,
            "max_width": null,
            "order": null,
            "_view_module_version": "1.2.0",
            "grid_template_areas": null,
            "object_position": null,
            "object_fit": null,
            "grid_auto_columns": null,
            "margin": null,
            "display": null,
            "left": null
          }
        },
        "91e27453237842039ed35f6d850b1db7": {
          "model_module": "@jupyter-widgets/controls",
          "model_name": "HBoxModel",
          "state": {
            "_view_name": "HBoxView",
            "_dom_classes": [],
            "_model_name": "HBoxModel",
            "_view_module": "@jupyter-widgets/controls",
            "_model_module_version": "1.5.0",
            "_view_count": null,
            "_view_module_version": "1.5.0",
            "box_style": "",
            "layout": "IPY_MODEL_656b3adc101e48379b2446187c1eba4f",
            "_model_module": "@jupyter-widgets/controls",
            "children": [
              "IPY_MODEL_ce04f52785e94b0cba27920e82e35e91",
              "IPY_MODEL_9686dc0f3fcd4030bc0c85b3ca09fe0d"
            ]
          }
        },
        "656b3adc101e48379b2446187c1eba4f": {
          "model_module": "@jupyter-widgets/base",
          "model_name": "LayoutModel",
          "state": {
            "_view_name": "LayoutView",
            "grid_template_rows": null,
            "right": null,
            "justify_content": null,
            "_view_module": "@jupyter-widgets/base",
            "overflow": null,
            "_model_module_version": "1.2.0",
            "_view_count": null,
            "flex_flow": null,
            "width": null,
            "min_width": null,
            "border": null,
            "align_items": null,
            "bottom": null,
            "_model_module": "@jupyter-widgets/base",
            "top": null,
            "grid_column": null,
            "overflow_y": null,
            "overflow_x": null,
            "grid_auto_flow": null,
            "grid_area": null,
            "grid_template_columns": null,
            "flex": null,
            "_model_name": "LayoutModel",
            "justify_items": null,
            "grid_row": null,
            "max_height": null,
            "align_content": null,
            "visibility": null,
            "align_self": null,
            "height": null,
            "min_height": null,
            "padding": null,
            "grid_auto_rows": null,
            "grid_gap": null,
            "max_width": null,
            "order": null,
            "_view_module_version": "1.2.0",
            "grid_template_areas": null,
            "object_position": null,
            "object_fit": null,
            "grid_auto_columns": null,
            "margin": null,
            "display": null,
            "left": null
          }
        },
        "ce04f52785e94b0cba27920e82e35e91": {
          "model_module": "@jupyter-widgets/controls",
          "model_name": "FloatProgressModel",
          "state": {
            "_view_name": "ProgressView",
            "style": "IPY_MODEL_a5e450e6cc904f7fbc009cc26c5a2739",
            "_dom_classes": [],
            "description": "",
            "_model_name": "FloatProgressModel",
            "bar_style": "success",
            "max": 28881,
            "_view_module": "@jupyter-widgets/controls",
            "_model_module_version": "1.5.0",
            "value": 28881,
            "_view_count": null,
            "_view_module_version": "1.5.0",
            "orientation": "horizontal",
            "min": 0,
            "description_tooltip": null,
            "_model_module": "@jupyter-widgets/controls",
            "layout": "IPY_MODEL_5af8a164545a4939a1c916472c7e2449"
          }
        },
        "9686dc0f3fcd4030bc0c85b3ca09fe0d": {
          "model_module": "@jupyter-widgets/controls",
          "model_name": "HTMLModel",
          "state": {
            "_view_name": "HTMLView",
            "style": "IPY_MODEL_61eeb6551cca404e96f07a8c455b1744",
            "_dom_classes": [],
            "description": "",
            "_model_name": "HTMLModel",
            "placeholder": "​",
            "_view_module": "@jupyter-widgets/controls",
            "_model_module_version": "1.5.0",
            "value": " 29696/? [00:51&lt;00:00, 575.69it/s]",
            "_view_count": null,
            "_view_module_version": "1.5.0",
            "description_tooltip": null,
            "_model_module": "@jupyter-widgets/controls",
            "layout": "IPY_MODEL_5f58f5b63d284d6a9198c69a6b450af2"
          }
        },
        "a5e450e6cc904f7fbc009cc26c5a2739": {
          "model_module": "@jupyter-widgets/controls",
          "model_name": "ProgressStyleModel",
          "state": {
            "_view_name": "StyleView",
            "_model_name": "ProgressStyleModel",
            "description_width": "initial",
            "_view_module": "@jupyter-widgets/base",
            "_model_module_version": "1.5.0",
            "_view_count": null,
            "_view_module_version": "1.2.0",
            "bar_color": null,
            "_model_module": "@jupyter-widgets/controls"
          }
        },
        "5af8a164545a4939a1c916472c7e2449": {
          "model_module": "@jupyter-widgets/base",
          "model_name": "LayoutModel",
          "state": {
            "_view_name": "LayoutView",
            "grid_template_rows": null,
            "right": null,
            "justify_content": null,
            "_view_module": "@jupyter-widgets/base",
            "overflow": null,
            "_model_module_version": "1.2.0",
            "_view_count": null,
            "flex_flow": null,
            "width": null,
            "min_width": null,
            "border": null,
            "align_items": null,
            "bottom": null,
            "_model_module": "@jupyter-widgets/base",
            "top": null,
            "grid_column": null,
            "overflow_y": null,
            "overflow_x": null,
            "grid_auto_flow": null,
            "grid_area": null,
            "grid_template_columns": null,
            "flex": null,
            "_model_name": "LayoutModel",
            "justify_items": null,
            "grid_row": null,
            "max_height": null,
            "align_content": null,
            "visibility": null,
            "align_self": null,
            "height": null,
            "min_height": null,
            "padding": null,
            "grid_auto_rows": null,
            "grid_gap": null,
            "max_width": null,
            "order": null,
            "_view_module_version": "1.2.0",
            "grid_template_areas": null,
            "object_position": null,
            "object_fit": null,
            "grid_auto_columns": null,
            "margin": null,
            "display": null,
            "left": null
          }
        },
        "61eeb6551cca404e96f07a8c455b1744": {
          "model_module": "@jupyter-widgets/controls",
          "model_name": "DescriptionStyleModel",
          "state": {
            "_view_name": "StyleView",
            "_model_name": "DescriptionStyleModel",
            "description_width": "",
            "_view_module": "@jupyter-widgets/base",
            "_model_module_version": "1.5.0",
            "_view_count": null,
            "_view_module_version": "1.2.0",
            "_model_module": "@jupyter-widgets/controls"
          }
        },
        "5f58f5b63d284d6a9198c69a6b450af2": {
          "model_module": "@jupyter-widgets/base",
          "model_name": "LayoutModel",
          "state": {
            "_view_name": "LayoutView",
            "grid_template_rows": null,
            "right": null,
            "justify_content": null,
            "_view_module": "@jupyter-widgets/base",
            "overflow": null,
            "_model_module_version": "1.2.0",
            "_view_count": null,
            "flex_flow": null,
            "width": null,
            "min_width": null,
            "border": null,
            "align_items": null,
            "bottom": null,
            "_model_module": "@jupyter-widgets/base",
            "top": null,
            "grid_column": null,
            "overflow_y": null,
            "overflow_x": null,
            "grid_auto_flow": null,
            "grid_area": null,
            "grid_template_columns": null,
            "flex": null,
            "_model_name": "LayoutModel",
            "justify_items": null,
            "grid_row": null,
            "max_height": null,
            "align_content": null,
            "visibility": null,
            "align_self": null,
            "height": null,
            "min_height": null,
            "padding": null,
            "grid_auto_rows": null,
            "grid_gap": null,
            "max_width": null,
            "order": null,
            "_view_module_version": "1.2.0",
            "grid_template_areas": null,
            "object_position": null,
            "object_fit": null,
            "grid_auto_columns": null,
            "margin": null,
            "display": null,
            "left": null
          }
        },
        "b20412345136464084ed1e06f49526dd": {
          "model_module": "@jupyter-widgets/controls",
          "model_name": "HBoxModel",
          "state": {
            "_view_name": "HBoxView",
            "_dom_classes": [],
            "_model_name": "HBoxModel",
            "_view_module": "@jupyter-widgets/controls",
            "_model_module_version": "1.5.0",
            "_view_count": null,
            "_view_module_version": "1.5.0",
            "box_style": "",
            "layout": "IPY_MODEL_dc63497ea7bf41a2a8a7e9bb677f2ab7",
            "_model_module": "@jupyter-widgets/controls",
            "children": [
              "IPY_MODEL_6f31d2992a604a438e71caac29815bdd",
              "IPY_MODEL_fdf3e892a8a540e59146bf1d86a0e031"
            ]
          }
        },
        "dc63497ea7bf41a2a8a7e9bb677f2ab7": {
          "model_module": "@jupyter-widgets/base",
          "model_name": "LayoutModel",
          "state": {
            "_view_name": "LayoutView",
            "grid_template_rows": null,
            "right": null,
            "justify_content": null,
            "_view_module": "@jupyter-widgets/base",
            "overflow": null,
            "_model_module_version": "1.2.0",
            "_view_count": null,
            "flex_flow": null,
            "width": null,
            "min_width": null,
            "border": null,
            "align_items": null,
            "bottom": null,
            "_model_module": "@jupyter-widgets/base",
            "top": null,
            "grid_column": null,
            "overflow_y": null,
            "overflow_x": null,
            "grid_auto_flow": null,
            "grid_area": null,
            "grid_template_columns": null,
            "flex": null,
            "_model_name": "LayoutModel",
            "justify_items": null,
            "grid_row": null,
            "max_height": null,
            "align_content": null,
            "visibility": null,
            "align_self": null,
            "height": null,
            "min_height": null,
            "padding": null,
            "grid_auto_rows": null,
            "grid_gap": null,
            "max_width": null,
            "order": null,
            "_view_module_version": "1.2.0",
            "grid_template_areas": null,
            "object_position": null,
            "object_fit": null,
            "grid_auto_columns": null,
            "margin": null,
            "display": null,
            "left": null
          }
        },
        "6f31d2992a604a438e71caac29815bdd": {
          "model_module": "@jupyter-widgets/controls",
          "model_name": "FloatProgressModel",
          "state": {
            "_view_name": "ProgressView",
            "style": "IPY_MODEL_d19daf87eb97471e88bd34b7b9c3103b",
            "_dom_classes": [],
            "description": "",
            "_model_name": "FloatProgressModel",
            "bar_style": "success",
            "max": 1648877,
            "_view_module": "@jupyter-widgets/controls",
            "_model_module_version": "1.5.0",
            "value": 1648877,
            "_view_count": null,
            "_view_module_version": "1.5.0",
            "orientation": "horizontal",
            "min": 0,
            "description_tooltip": null,
            "_model_module": "@jupyter-widgets/controls",
            "layout": "IPY_MODEL_c26151d8707c45639b98175d7fa61388"
          }
        },
        "fdf3e892a8a540e59146bf1d86a0e031": {
          "model_module": "@jupyter-widgets/controls",
          "model_name": "HTMLModel",
          "state": {
            "_view_name": "HTMLView",
            "style": "IPY_MODEL_264900620a394fe98a8e3224de8e7ff8",
            "_dom_classes": [],
            "description": "",
            "_model_name": "HTMLModel",
            "placeholder": "​",
            "_view_module": "@jupyter-widgets/controls",
            "_model_module_version": "1.5.0",
            "value": " 1649664/? [00:50&lt;00:00, 32727.74it/s]",
            "_view_count": null,
            "_view_module_version": "1.5.0",
            "description_tooltip": null,
            "_model_module": "@jupyter-widgets/controls",
            "layout": "IPY_MODEL_2dd4a42263a744d1998ca4170cc69fb3"
          }
        },
        "d19daf87eb97471e88bd34b7b9c3103b": {
          "model_module": "@jupyter-widgets/controls",
          "model_name": "ProgressStyleModel",
          "state": {
            "_view_name": "StyleView",
            "_model_name": "ProgressStyleModel",
            "description_width": "initial",
            "_view_module": "@jupyter-widgets/base",
            "_model_module_version": "1.5.0",
            "_view_count": null,
            "_view_module_version": "1.2.0",
            "bar_color": null,
            "_model_module": "@jupyter-widgets/controls"
          }
        },
        "c26151d8707c45639b98175d7fa61388": {
          "model_module": "@jupyter-widgets/base",
          "model_name": "LayoutModel",
          "state": {
            "_view_name": "LayoutView",
            "grid_template_rows": null,
            "right": null,
            "justify_content": null,
            "_view_module": "@jupyter-widgets/base",
            "overflow": null,
            "_model_module_version": "1.2.0",
            "_view_count": null,
            "flex_flow": null,
            "width": null,
            "min_width": null,
            "border": null,
            "align_items": null,
            "bottom": null,
            "_model_module": "@jupyter-widgets/base",
            "top": null,
            "grid_column": null,
            "overflow_y": null,
            "overflow_x": null,
            "grid_auto_flow": null,
            "grid_area": null,
            "grid_template_columns": null,
            "flex": null,
            "_model_name": "LayoutModel",
            "justify_items": null,
            "grid_row": null,
            "max_height": null,
            "align_content": null,
            "visibility": null,
            "align_self": null,
            "height": null,
            "min_height": null,
            "padding": null,
            "grid_auto_rows": null,
            "grid_gap": null,
            "max_width": null,
            "order": null,
            "_view_module_version": "1.2.0",
            "grid_template_areas": null,
            "object_position": null,
            "object_fit": null,
            "grid_auto_columns": null,
            "margin": null,
            "display": null,
            "left": null
          }
        },
        "264900620a394fe98a8e3224de8e7ff8": {
          "model_module": "@jupyter-widgets/controls",
          "model_name": "DescriptionStyleModel",
          "state": {
            "_view_name": "StyleView",
            "_model_name": "DescriptionStyleModel",
            "description_width": "",
            "_view_module": "@jupyter-widgets/base",
            "_model_module_version": "1.5.0",
            "_view_count": null,
            "_view_module_version": "1.2.0",
            "_model_module": "@jupyter-widgets/controls"
          }
        },
        "2dd4a42263a744d1998ca4170cc69fb3": {
          "model_module": "@jupyter-widgets/base",
          "model_name": "LayoutModel",
          "state": {
            "_view_name": "LayoutView",
            "grid_template_rows": null,
            "right": null,
            "justify_content": null,
            "_view_module": "@jupyter-widgets/base",
            "overflow": null,
            "_model_module_version": "1.2.0",
            "_view_count": null,
            "flex_flow": null,
            "width": null,
            "min_width": null,
            "border": null,
            "align_items": null,
            "bottom": null,
            "_model_module": "@jupyter-widgets/base",
            "top": null,
            "grid_column": null,
            "overflow_y": null,
            "overflow_x": null,
            "grid_auto_flow": null,
            "grid_area": null,
            "grid_template_columns": null,
            "flex": null,
            "_model_name": "LayoutModel",
            "justify_items": null,
            "grid_row": null,
            "max_height": null,
            "align_content": null,
            "visibility": null,
            "align_self": null,
            "height": null,
            "min_height": null,
            "padding": null,
            "grid_auto_rows": null,
            "grid_gap": null,
            "max_width": null,
            "order": null,
            "_view_module_version": "1.2.0",
            "grid_template_areas": null,
            "object_position": null,
            "object_fit": null,
            "grid_auto_columns": null,
            "margin": null,
            "display": null,
            "left": null
          }
        },
        "74f01ee58ef34a689b301618c9fef11c": {
          "model_module": "@jupyter-widgets/controls",
          "model_name": "HBoxModel",
          "state": {
            "_view_name": "HBoxView",
            "_dom_classes": [],
            "_model_name": "HBoxModel",
            "_view_module": "@jupyter-widgets/controls",
            "_model_module_version": "1.5.0",
            "_view_count": null,
            "_view_module_version": "1.5.0",
            "box_style": "",
            "layout": "IPY_MODEL_b97ddf0ec5314e14b41d9eaa91bd23f4",
            "_model_module": "@jupyter-widgets/controls",
            "children": [
              "IPY_MODEL_2b1c42eea4954b21b2cd1d3aa8ae5ef1",
              "IPY_MODEL_66286ae74b524790812cc0ae8a280491"
            ]
          }
        },
        "b97ddf0ec5314e14b41d9eaa91bd23f4": {
          "model_module": "@jupyter-widgets/base",
          "model_name": "LayoutModel",
          "state": {
            "_view_name": "LayoutView",
            "grid_template_rows": null,
            "right": null,
            "justify_content": null,
            "_view_module": "@jupyter-widgets/base",
            "overflow": null,
            "_model_module_version": "1.2.0",
            "_view_count": null,
            "flex_flow": null,
            "width": null,
            "min_width": null,
            "border": null,
            "align_items": null,
            "bottom": null,
            "_model_module": "@jupyter-widgets/base",
            "top": null,
            "grid_column": null,
            "overflow_y": null,
            "overflow_x": null,
            "grid_auto_flow": null,
            "grid_area": null,
            "grid_template_columns": null,
            "flex": null,
            "_model_name": "LayoutModel",
            "justify_items": null,
            "grid_row": null,
            "max_height": null,
            "align_content": null,
            "visibility": null,
            "align_self": null,
            "height": null,
            "min_height": null,
            "padding": null,
            "grid_auto_rows": null,
            "grid_gap": null,
            "max_width": null,
            "order": null,
            "_view_module_version": "1.2.0",
            "grid_template_areas": null,
            "object_position": null,
            "object_fit": null,
            "grid_auto_columns": null,
            "margin": null,
            "display": null,
            "left": null
          }
        },
        "2b1c42eea4954b21b2cd1d3aa8ae5ef1": {
          "model_module": "@jupyter-widgets/controls",
          "model_name": "FloatProgressModel",
          "state": {
            "_view_name": "ProgressView",
            "style": "IPY_MODEL_f032be09509e4777874630773039c0f0",
            "_dom_classes": [],
            "description": "",
            "_model_name": "FloatProgressModel",
            "bar_style": "success",
            "max": 4542,
            "_view_module": "@jupyter-widgets/controls",
            "_model_module_version": "1.5.0",
            "value": 4542,
            "_view_count": null,
            "_view_module_version": "1.5.0",
            "orientation": "horizontal",
            "min": 0,
            "description_tooltip": null,
            "_model_module": "@jupyter-widgets/controls",
            "layout": "IPY_MODEL_8e9ee3a26edf40c0883330c7b6f91b2a"
          }
        },
        "66286ae74b524790812cc0ae8a280491": {
          "model_module": "@jupyter-widgets/controls",
          "model_name": "HTMLModel",
          "state": {
            "_view_name": "HTMLView",
            "style": "IPY_MODEL_cb963e465f08444e8c8cc5cb49e15b50",
            "_dom_classes": [],
            "description": "",
            "_model_name": "HTMLModel",
            "placeholder": "​",
            "_view_module": "@jupyter-widgets/controls",
            "_model_module_version": "1.5.0",
            "value": " 5120/? [00:00&lt;00:00, 35306.29it/s]",
            "_view_count": null,
            "_view_module_version": "1.5.0",
            "description_tooltip": null,
            "_model_module": "@jupyter-widgets/controls",
            "layout": "IPY_MODEL_48c5e12b074547009109e78015cf1daa"
          }
        },
        "f032be09509e4777874630773039c0f0": {
          "model_module": "@jupyter-widgets/controls",
          "model_name": "ProgressStyleModel",
          "state": {
            "_view_name": "StyleView",
            "_model_name": "ProgressStyleModel",
            "description_width": "initial",
            "_view_module": "@jupyter-widgets/base",
            "_model_module_version": "1.5.0",
            "_view_count": null,
            "_view_module_version": "1.2.0",
            "bar_color": null,
            "_model_module": "@jupyter-widgets/controls"
          }
        },
        "8e9ee3a26edf40c0883330c7b6f91b2a": {
          "model_module": "@jupyter-widgets/base",
          "model_name": "LayoutModel",
          "state": {
            "_view_name": "LayoutView",
            "grid_template_rows": null,
            "right": null,
            "justify_content": null,
            "_view_module": "@jupyter-widgets/base",
            "overflow": null,
            "_model_module_version": "1.2.0",
            "_view_count": null,
            "flex_flow": null,
            "width": null,
            "min_width": null,
            "border": null,
            "align_items": null,
            "bottom": null,
            "_model_module": "@jupyter-widgets/base",
            "top": null,
            "grid_column": null,
            "overflow_y": null,
            "overflow_x": null,
            "grid_auto_flow": null,
            "grid_area": null,
            "grid_template_columns": null,
            "flex": null,
            "_model_name": "LayoutModel",
            "justify_items": null,
            "grid_row": null,
            "max_height": null,
            "align_content": null,
            "visibility": null,
            "align_self": null,
            "height": null,
            "min_height": null,
            "padding": null,
            "grid_auto_rows": null,
            "grid_gap": null,
            "max_width": null,
            "order": null,
            "_view_module_version": "1.2.0",
            "grid_template_areas": null,
            "object_position": null,
            "object_fit": null,
            "grid_auto_columns": null,
            "margin": null,
            "display": null,
            "left": null
          }
        },
        "cb963e465f08444e8c8cc5cb49e15b50": {
          "model_module": "@jupyter-widgets/controls",
          "model_name": "DescriptionStyleModel",
          "state": {
            "_view_name": "StyleView",
            "_model_name": "DescriptionStyleModel",
            "description_width": "",
            "_view_module": "@jupyter-widgets/base",
            "_model_module_version": "1.5.0",
            "_view_count": null,
            "_view_module_version": "1.2.0",
            "_model_module": "@jupyter-widgets/controls"
          }
        },
        "48c5e12b074547009109e78015cf1daa": {
          "model_module": "@jupyter-widgets/base",
          "model_name": "LayoutModel",
          "state": {
            "_view_name": "LayoutView",
            "grid_template_rows": null,
            "right": null,
            "justify_content": null,
            "_view_module": "@jupyter-widgets/base",
            "overflow": null,
            "_model_module_version": "1.2.0",
            "_view_count": null,
            "flex_flow": null,
            "width": null,
            "min_width": null,
            "border": null,
            "align_items": null,
            "bottom": null,
            "_model_module": "@jupyter-widgets/base",
            "top": null,
            "grid_column": null,
            "overflow_y": null,
            "overflow_x": null,
            "grid_auto_flow": null,
            "grid_area": null,
            "grid_template_columns": null,
            "flex": null,
            "_model_name": "LayoutModel",
            "justify_items": null,
            "grid_row": null,
            "max_height": null,
            "align_content": null,
            "visibility": null,
            "align_self": null,
            "height": null,
            "min_height": null,
            "padding": null,
            "grid_auto_rows": null,
            "grid_gap": null,
            "max_width": null,
            "order": null,
            "_view_module_version": "1.2.0",
            "grid_template_areas": null,
            "object_position": null,
            "object_fit": null,
            "grid_auto_columns": null,
            "margin": null,
            "display": null,
            "left": null
          }
        }
      }
    }
  },
  "cells": [
    {
      "cell_type": "markdown",
      "metadata": {
        "id": "view-in-github",
        "colab_type": "text"
      },
      "source": [
        "<a href=\"https://colab.research.google.com/github/dgymjol/cs231n/blob/main/YAI_2%EC%A3%BC%EC%B0%A8_%EA%B3%BC%EC%A0%9C_activation_function.ipynb\" target=\"_parent\"><img src=\"https://colab.research.google.com/assets/colab-badge.svg\" alt=\"Open In Colab\"/></a>"
      ]
    },
    {
      "cell_type": "markdown",
      "metadata": {
        "id": "lLIC8r3bxvNM"
      },
      "source": [
        "# < 활성화 함수(Activation function)의 역할과 조건 >\n",
        "\n",
        "1. ***활성화 함수(Activation function)는 딥러닝 네트워크에서 어떤 역할을 하나요?***\n",
        "\n",
        "input에 대해서 weighted sum으로 output을 출력하는 함수로, MLP를 구성하기 위해 hidden layer를 만드는 데 쓰인다.\n",
        "\n",
        "2. ***위에서 대답한 역할을 수행하기 위해 활성화 함수가 가져야 할 조건은 무엇인가요?***\n",
        "\n",
        "non-linearity 가 있어야지, XOR과 같이 linear한 layer로만 해결할 수 없는 문제도 해결할 수 있게 된다. (hidden layer 구성)\n"
      ]
    },
    {
      "cell_type": "markdown",
      "metadata": {
        "id": "z23fInsrJVA_"
      },
      "source": [
        "### Module Import & Set Device"
      ]
    },
    {
      "cell_type": "code",
      "metadata": {
        "id": "qDv2R7qDJBOo"
      },
      "source": [
        "import torch\n",
        "import torchvision.datasets as dsets\n",
        "import torchvision.transforms as transforms\n",
        "import time\n",
        "\n",
        "import pandas as pd\n",
        "import seaborn as sns\n",
        "import matplotlib.pyplot as plt"
      ],
      "execution_count": 1,
      "outputs": []
    },
    {
      "cell_type": "code",
      "metadata": {
        "id": "J5qEqcUbJBPX"
      },
      "source": [
        "device = 'cuda' if torch.cuda.is_available() else 'cpu'\n",
        "\n",
        "torch.manual_seed(777)  # 랜덤 시드 고정\n",
        "\n",
        "if device == 'cuda':\n",
        "    torch.cuda.manual_seed_all(777) # GPU 사용 가능할경우 랜덤 시드 고정"
      ],
      "execution_count": 2,
      "outputs": []
    },
    {
      "cell_type": "markdown",
      "metadata": {
        "id": "6rhaabBsLtNR"
      },
      "source": [
        "# Activation Function 구현\n",
        "\n",
        "3. ***주어진 주피터노트북 코드의 #TODO#를 PyTorch를 사용해 작성하여 각 활성화함수를 구현해보세요.***\n",
        "\n",
        "4. ***Custom activation function을 정의해 각 팀이 생각하는 조건을 갖춘 활성화 함수를 만들고 설명해주세요.***\n"
      ]
    },
    {
      "cell_type": "markdown",
      "metadata": {
        "id": "cZS0oCzPLbBP"
      },
      "source": [
        "### Abstract Class for each Activation Funtion"
      ]
    },
    {
      "cell_type": "code",
      "metadata": {
        "id": "rWEkLTiGJBPv"
      },
      "source": [
        "class BaseActivation:\n",
        "    def __init__(self):\n",
        "        pass\n",
        "    \n",
        "    def __call__(self, x):\n",
        "        return x\n",
        "    \n",
        "    def parameters(self):\n",
        "        return []"
      ],
      "execution_count": 3,
      "outputs": []
    },
    {
      "cell_type": "markdown",
      "metadata": {
        "id": "bebvInNcJBQ3"
      },
      "source": [
        "### Sigmoid"
      ]
    },
    {
      "cell_type": "code",
      "metadata": {
        "id": "90FIOJiWJBQ6"
      },
      "source": [
        "# Hint: torch.exp함수를 사용해보세요.\n",
        "# Hint: https://pytorch.org/docs/stable/generated/torch.nn.Sigmoid.html\n",
        "\n",
        "class sigmoid(BaseActivation):\n",
        "    def __call__(self, x):\n",
        "        ################ TODO ################\n",
        "        return torch.div(torch.tensor(1.0), torch.add(torch.tensor(1.0), torch.exp(torch.negative(x))))\n",
        "        ################ TODO ################"
      ],
      "execution_count": 4,
      "outputs": []
    },
    {
      "cell_type": "markdown",
      "metadata": {
        "id": "ZiGtIqC_JBQj"
      },
      "source": [
        "### ReLU\n",
        "Relu(x) = max(0, x)"
      ]
    },
    {
      "cell_type": "code",
      "metadata": {
        "id": "FbawAVTEJBQP"
      },
      "source": [
        "zero_tensor = torch.Tensor([0]).to(device)"
      ],
      "execution_count": 5,
      "outputs": []
    },
    {
      "cell_type": "code",
      "metadata": {
        "id": "qknNNXUHJBQn"
      },
      "source": [
        "# Hint: torch.maximum과 zero_tensor를 활용해보세요.\n",
        "# Hint: https://pytorch.org/docs/stable/generated/torch.nn.ReLU.html?highlight=relu#torch.nn.ReLU\n",
        "\n",
        "class relu(BaseActivation):\n",
        "    def __call__(self, x):\n",
        "        ################ TODO ################\n",
        "        return torch.max(zero_tensor, x)\n",
        "        ################ TODO ################"
      ],
      "execution_count": 6,
      "outputs": []
    },
    {
      "cell_type": "markdown",
      "metadata": {
        "id": "lO6flsUSJBRE"
      },
      "source": [
        "### Leaky ReLU"
      ]
    },
    {
      "cell_type": "code",
      "metadata": {
        "id": "erEn1u70JBRG"
      },
      "source": [
        "# Hint 1: torch.Tensor를 활용해 negative slope를 정의하세요\n",
        "# Hint 2: torch.where를 활용해 조건에 따른 return값을 설정해보세요\n",
        "# Hint: https://pytorch.org/docs/stable/generated/torch.nn.LeakyReLU.html?highlight=leakyrelu\n",
        "\n",
        "class leakyrelu(BaseActivation):\n",
        "    def __init__(self):\n",
        "        ################ TODO ################\n",
        "        self.negative_slope = torch.tensor(0.01)\n",
        "        ################ TODO ################\n",
        "        \n",
        "    def __call__(self, x):\n",
        "        ################ TODO ################\n",
        "        return torch.where(x>= 0, x, self.negative_slope * x)\n",
        "        ################ TODO ################"
      ],
      "execution_count": 7,
      "outputs": []
    },
    {
      "cell_type": "markdown",
      "metadata": {
        "id": "e3zrXoF2JBRJ"
      },
      "source": [
        "### PReLU"
      ]
    },
    {
      "cell_type": "code",
      "metadata": {
        "id": "5dp188PQJBRL"
      },
      "source": [
        "# Hint: 위와 마찬가지로 조건에 따른 return값을 설정해보세요.\n",
        "# Hint: https://pytorch.org/docs/stable/generated/torch.nn.PReLU.html?highlight=prelu#torch.nn.PReLU\n",
        "\n",
        "class prelu(BaseActivation):\n",
        "    def __init__(self):\n",
        "        self.alpha = torch.empty(1).fill_(0.25).to(device).requires_grad_()\n",
        "        \n",
        "    def __call__(self, x):\n",
        "        ################ TODO ################\n",
        "        return torch.where(x>= 0, x, self.alpha * x)      \n",
        "        ################ TODO ################\n",
        "        \n",
        "    def parameters(self):\n",
        "        return [self.alpha]"
      ],
      "execution_count": 8,
      "outputs": []
    },
    {
      "cell_type": "markdown",
      "metadata": {
        "id": "P-tDsQ8nJBRU"
      },
      "source": [
        "### ELU"
      ]
    },
    {
      "cell_type": "code",
      "metadata": {
        "id": "Zfl1mD32JBRY"
      },
      "source": [
        "# Hint: https://pytorch.org/docs/stable/generated/torch.nn.ELU.html?highlight=elu#torch.nn.ELU\n",
        "\n",
        "class elu(BaseActivation):\n",
        "    def __init__(self):\n",
        "        self.alpha = torch.empty(1).fill_(1.0).to(device).requires_grad_()\n",
        "        \n",
        "    def __call__(self, x):\n",
        "        ################ TODO ################\n",
        "        return torch.where(x>= 0, x, self.alpha * torch.add(torch.exp(x), torch.tensor(-1.0)))\n",
        "        ################ TODO ################\n",
        "    \n",
        "    def parameters(self):\n",
        "        return [self.alpha]"
      ],
      "execution_count": 9,
      "outputs": []
    },
    {
      "cell_type": "markdown",
      "metadata": {
        "id": "ofZduPjZMG68"
      },
      "source": [
        "###Your Custom Activation Function"
      ]
    },
    {
      "cell_type": "code",
      "metadata": {
        "id": "uwmfE8HYJBRi"
      },
      "source": [
        "# Custom activation을 만들어보세요.\n",
        "class my_activation(BaseActivation):\n",
        "    def __init__(self):\n",
        "        ################ TODO ################\n",
        "        self.negative_slope = torch.tensor(0.03)\n",
        "        ################ TODO ################\n",
        "        \n",
        "    def __call__(self, x):\n",
        "        ################ TODO ################\n",
        "        return torch.where(x>= 0, x, self.negative_slope * x)\n",
        "        # return torch.div(torch.sub(torch.exp(x), torch.exp(torch.negative(x)), alpha=1), torch.add( torch.exp(x), torch.exp(torch.negative(x))))\n",
        "        ################ TODO ################"
      ],
      "execution_count": 23,
      "outputs": []
    },
    {
      "cell_type": "markdown",
      "metadata": {
        "id": "YZ6IpM7PMNkS"
      },
      "source": [
        "# MNIST 손글씨 이미지 분류하기\n"
      ]
    },
    {
      "cell_type": "markdown",
      "metadata": {
        "id": "JhcqNwS4JrLF"
      },
      "source": [
        "### 하이퍼파라미터 세팅"
      ]
    },
    {
      "cell_type": "code",
      "metadata": {
        "id": "N-Ig8-UCJBPe"
      },
      "source": [
        "learning_rate = 0.01\n",
        "epochs = 10\n",
        "batch_size = 1024"
      ],
      "execution_count": 11,
      "outputs": []
    },
    {
      "cell_type": "markdown",
      "metadata": {
        "id": "atH1wDx6J4P4"
      },
      "source": [
        "### 데이터셋, 데이터 로더 정의"
      ]
    },
    {
      "cell_type": "code",
      "metadata": {
        "scrolled": false,
        "id": "vfp3nggsJBPh",
        "colab": {
          "base_uri": "https://localhost:8080/",
          "height": 0,
          "referenced_widgets": [
            "d16a40c2e0774e239898bbe606ff0892",
            "b1b3386fa9a2460eb6b0cc8be9821078",
            "7288da115b0f4fdea2c1cb6edbcd1317",
            "3fcaff1645ff4412a098560b024e21c3",
            "1bbbe755fa5143ad8a67590fc0f5376e",
            "ae4ac2bf95d94bdaa962871fd45ad6c3",
            "73f51603dd1e4571933154207e68951f",
            "6a129516c4f3457cacfa9fbac07e3abf",
            "91e27453237842039ed35f6d850b1db7",
            "656b3adc101e48379b2446187c1eba4f",
            "ce04f52785e94b0cba27920e82e35e91",
            "9686dc0f3fcd4030bc0c85b3ca09fe0d",
            "a5e450e6cc904f7fbc009cc26c5a2739",
            "5af8a164545a4939a1c916472c7e2449",
            "61eeb6551cca404e96f07a8c455b1744",
            "5f58f5b63d284d6a9198c69a6b450af2",
            "b20412345136464084ed1e06f49526dd",
            "dc63497ea7bf41a2a8a7e9bb677f2ab7",
            "6f31d2992a604a438e71caac29815bdd",
            "fdf3e892a8a540e59146bf1d86a0e031",
            "d19daf87eb97471e88bd34b7b9c3103b",
            "c26151d8707c45639b98175d7fa61388",
            "264900620a394fe98a8e3224de8e7ff8",
            "2dd4a42263a744d1998ca4170cc69fb3",
            "74f01ee58ef34a689b301618c9fef11c",
            "b97ddf0ec5314e14b41d9eaa91bd23f4",
            "2b1c42eea4954b21b2cd1d3aa8ae5ef1",
            "66286ae74b524790812cc0ae8a280491",
            "f032be09509e4777874630773039c0f0",
            "8e9ee3a26edf40c0883330c7b6f91b2a",
            "cb963e465f08444e8c8cc5cb49e15b50",
            "48c5e12b074547009109e78015cf1daa"
          ]
        },
        "outputId": "1e7708a6-7dc9-4e32-e159-8bde32d7ae12"
      },
      "source": [
        "#손글씨 분류를 위한 데이터셋인 MNIST 데이터셋 다운로드\n",
        "\n",
        "mnist_train = dsets.MNIST(root='MNIST_data/', # 다운로드 경로 지정\n",
        "                          train=True, # True로 지정하면 훈련 데이터로 다운로드\n",
        "                          transform=transforms.ToTensor(), # 텐서 데이터로 변환\n",
        "                          download=True)\n",
        "\n",
        "mnist_test = dsets.MNIST(root='MNIST_data/', # 다운로드 경로 지정\n",
        "                         train=False, # False로 지정하면 테스트 데이터로 다운로드\n",
        "                         transform=transforms.ToTensor(), # 텐서 데이터로 변환\n",
        "                         download=True)"
      ],
      "execution_count": 12,
      "outputs": [
        {
          "output_type": "stream",
          "text": [
            "Downloading http://yann.lecun.com/exdb/mnist/train-images-idx3-ubyte.gz\n",
            "Downloading http://yann.lecun.com/exdb/mnist/train-images-idx3-ubyte.gz to MNIST_data/MNIST/raw/train-images-idx3-ubyte.gz\n",
            "Failed to download (trying next):\n",
            "HTTP Error 503: Service Unavailable\n",
            "\n",
            "Downloading https://ossci-datasets.s3.amazonaws.com/mnist/train-images-idx3-ubyte.gz\n",
            "Downloading https://ossci-datasets.s3.amazonaws.com/mnist/train-images-idx3-ubyte.gz to MNIST_data/MNIST/raw/train-images-idx3-ubyte.gz\n"
          ],
          "name": "stdout"
        },
        {
          "output_type": "display_data",
          "data": {
            "application/vnd.jupyter.widget-view+json": {
              "model_id": "d16a40c2e0774e239898bbe606ff0892",
              "version_minor": 0,
              "version_major": 2
            },
            "text/plain": [
              "HBox(children=(FloatProgress(value=0.0, max=9912422.0), HTML(value='')))"
            ]
          },
          "metadata": {
            "tags": []
          }
        },
        {
          "output_type": "stream",
          "text": [
            "\n",
            "Extracting MNIST_data/MNIST/raw/train-images-idx3-ubyte.gz to MNIST_data/MNIST/raw\n",
            "\n",
            "Downloading http://yann.lecun.com/exdb/mnist/train-labels-idx1-ubyte.gz\n",
            "Downloading http://yann.lecun.com/exdb/mnist/train-labels-idx1-ubyte.gz to MNIST_data/MNIST/raw/train-labels-idx1-ubyte.gz\n"
          ],
          "name": "stdout"
        },
        {
          "output_type": "display_data",
          "data": {
            "application/vnd.jupyter.widget-view+json": {
              "model_id": "91e27453237842039ed35f6d850b1db7",
              "version_minor": 0,
              "version_major": 2
            },
            "text/plain": [
              "HBox(children=(FloatProgress(value=0.0, max=28881.0), HTML(value='')))"
            ]
          },
          "metadata": {
            "tags": []
          }
        },
        {
          "output_type": "stream",
          "text": [
            "\n",
            "Extracting MNIST_data/MNIST/raw/train-labels-idx1-ubyte.gz to MNIST_data/MNIST/raw\n",
            "\n",
            "Downloading http://yann.lecun.com/exdb/mnist/t10k-images-idx3-ubyte.gz\n",
            "Downloading http://yann.lecun.com/exdb/mnist/t10k-images-idx3-ubyte.gz to MNIST_data/MNIST/raw/t10k-images-idx3-ubyte.gz\n"
          ],
          "name": "stdout"
        },
        {
          "output_type": "display_data",
          "data": {
            "application/vnd.jupyter.widget-view+json": {
              "model_id": "b20412345136464084ed1e06f49526dd",
              "version_minor": 0,
              "version_major": 2
            },
            "text/plain": [
              "HBox(children=(FloatProgress(value=0.0, max=1648877.0), HTML(value='')))"
            ]
          },
          "metadata": {
            "tags": []
          }
        },
        {
          "output_type": "stream",
          "text": [
            "\n",
            "Extracting MNIST_data/MNIST/raw/t10k-images-idx3-ubyte.gz to MNIST_data/MNIST/raw\n",
            "\n",
            "Downloading http://yann.lecun.com/exdb/mnist/t10k-labels-idx1-ubyte.gz\n",
            "Downloading http://yann.lecun.com/exdb/mnist/t10k-labels-idx1-ubyte.gz to MNIST_data/MNIST/raw/t10k-labels-idx1-ubyte.gz\n"
          ],
          "name": "stdout"
        },
        {
          "output_type": "display_data",
          "data": {
            "application/vnd.jupyter.widget-view+json": {
              "model_id": "74f01ee58ef34a689b301618c9fef11c",
              "version_minor": 0,
              "version_major": 2
            },
            "text/plain": [
              "HBox(children=(FloatProgress(value=0.0, max=4542.0), HTML(value='')))"
            ]
          },
          "metadata": {
            "tags": []
          }
        },
        {
          "output_type": "stream",
          "text": [
            "\n",
            "Extracting MNIST_data/MNIST/raw/t10k-labels-idx1-ubyte.gz to MNIST_data/MNIST/raw\n",
            "\n"
          ],
          "name": "stdout"
        },
        {
          "output_type": "stream",
          "text": [
            "/usr/local/lib/python3.7/dist-packages/torchvision/datasets/mnist.py:498: UserWarning: The given NumPy array is not writeable, and PyTorch does not support non-writeable tensors. This means you can write to the underlying (supposedly non-writeable) NumPy array using the tensor. You may want to copy the array to protect its data or make it writeable before converting it to a tensor. This type of warning will be suppressed for the rest of this program. (Triggered internally at  /pytorch/torch/csrc/utils/tensor_numpy.cpp:180.)\n",
            "  return torch.from_numpy(parsed.astype(m[2], copy=False)).view(*s)\n"
          ],
          "name": "stderr"
        }
      ]
    },
    {
      "cell_type": "code",
      "metadata": {
        "id": "eHvC3MFAJBPm"
      },
      "source": [
        "# 다운로드 한 데이터셋을 이용해 데이터 로더 정의\n",
        "# 데이터 로더는 iterable type으로, 반복문을 사용하여 한 번에 배치 사이즈만큼 데이터를 불러올 수 있음\n",
        "\n",
        "data_loader = torch.utils.data.DataLoader(dataset=mnist_train,\n",
        "                                          batch_size=batch_size,\n",
        "                                          shuffle=True,\n",
        "                                          drop_last=True)\n",
        "\n",
        "total_batch = len(data_loader)  # Mini-batch의 개수 = (전체 데이터 수 / batch size)"
      ],
      "execution_count": 13,
      "outputs": []
    },
    {
      "cell_type": "markdown",
      "metadata": {
        "id": "FaTzesIsOPkE"
      },
      "source": [
        "### 모델(신경망) 구조 정의"
      ]
    },
    {
      "cell_type": "code",
      "metadata": {
        "id": "4lxQFEJcJBRl"
      },
      "source": [
        "class Net(torch.nn.Module):\n",
        "    def __init__(self, use):\n",
        "        super(Net, self).__init__()\n",
        "        self.fc1 = torch.nn.Linear(28*28, 64) # input image shape가 가로 28, 세로 28이므로 28*28\n",
        "        self.fc2 = torch.nn.Linear(64, 32)\n",
        "        self.fc3 = torch.nn.Linear(32, 16)\n",
        "        self.fc4 = torch.nn.Linear(16, 10) # 최종 예측 클래스 종류는 0~9, 10가지이므로 10개\n",
        "        \n",
        "        # 파라미터로 주어진 activation 종다르게 설정\n",
        "        if use == 'relu':\n",
        "            self.activation = relu()\n",
        "        elif use == 'sigmoid':\n",
        "            self.activation = sigmoid()\n",
        "        elif use == 'prelu':\n",
        "            self.activation = prelu()\n",
        "        elif use == 'leaky_relu':\n",
        "            self.activation = leakyrelu()\n",
        "        elif use == 'elu':\n",
        "            self.activation = elu()\n",
        "        elif use == 'custom':\n",
        "            self.activation = my_activation()\n",
        "            \n",
        "    # fc1 -> activation -> fc2\n",
        "    def forward(self, x):\n",
        "        x = x.view(-1, 784)\n",
        "        x = self.activation(self.fc1(x))\n",
        "        x = self.activation(self.fc2(x))\n",
        "        x = self.activation(self.fc3(x))\n",
        "        x = self.fc4(x)\n",
        "        return x"
      ],
      "execution_count": 14,
      "outputs": []
    },
    {
      "cell_type": "markdown",
      "metadata": {
        "id": "HypBuqJwOgxm"
      },
      "source": [
        "### 모델 Training"
      ]
    },
    {
      "cell_type": "code",
      "metadata": {
        "scrolled": false,
        "id": "ssB9q5IXJBRy"
      },
      "source": [
        "# 모델을 생성하고 학습시킨 후, 성능을 performance_dict에 저장하는 함수\n",
        "def train_eval(use):\n",
        "    global performance_dict\n",
        "    model = Net(use).to(device)\n",
        "    criterion = torch.nn.CrossEntropyLoss().to(device)\n",
        "    optimizer = torch.optim.Adam(list(model.parameters()) + model.activation.parameters(), lr=learning_rate)\n",
        "\n",
        "    start = time.time(); test_accs = []\n",
        "    print(f\"\\n###### Using Activation Function: {use.upper()} ######\")\n",
        "    for epoch in range(epochs):\n",
        "        avg_loss = 0\n",
        "        avg_acc = 0\n",
        "\n",
        "        for X, Y in data_loader:\n",
        "            X = X.to(device)\n",
        "            Y = Y.to(device)\n",
        "\n",
        "            optimizer.zero_grad()\n",
        "            prediction = model(X)\n",
        "            loss = criterion(prediction, Y)\n",
        "            acc = (torch.argmax(prediction, 1) == Y).float().mean().item()\n",
        "            loss.backward()\n",
        "            optimizer.step()\n",
        "\n",
        "            avg_loss += loss / total_batch\n",
        "            avg_acc += acc / total_batch\n",
        "\n",
        "        print(f'[Epoch: {epoch+1:>2}] train_loss: {avg_loss:.4f}, train_acc: {avg_acc:.4f}, ', end=\"\")\n",
        "\n",
        "        with torch.no_grad():\n",
        "            X_test = mnist_test.data.view(len(mnist_test), 1, 28, 28).float().to(device)\n",
        "            Y_test = mnist_test.targets.to(device)\n",
        "\n",
        "            test_prediction = model(X_test)\n",
        "            correct_prediction = torch.argmax(test_prediction, 1) == Y_test\n",
        "            test_accuracy = correct_prediction.float().mean().item()\n",
        "            test_accs.append(test_accuracy)\n",
        "            print(f\"test_acc: {test_accuracy:.4f}, best_acc: {max(test_accs):.4f}\")\n",
        "    \n",
        "    performance_dict[use] = {'time': time.time()-start, 'accuracy' : max(test_accs)}"
      ],
      "execution_count": 15,
      "outputs": []
    },
    {
      "cell_type": "markdown",
      "metadata": {
        "id": "nWh38u5AOmSC"
      },
      "source": [
        "### 성능 확인"
      ]
    },
    {
      "cell_type": "code",
      "metadata": {
        "id": "jowmP0QJ4yDw"
      },
      "source": [
        "#train_eval('custom')"
      ],
      "execution_count": null,
      "outputs": []
    },
    {
      "cell_type": "code",
      "metadata": {
        "id": "TMxze1x9JBR7",
        "colab": {
          "base_uri": "https://localhost:8080/"
        },
        "outputId": "ce3f64c1-2f0b-49af-ad68-e0aca345f928"
      },
      "source": [
        "performance_dict = {}\n",
        "for use in ['relu', 'sigmoid', 'prelu', 'leaky_relu', 'elu', 'custom']:   #위에서 정의한 각 활성화함수를 이용해 훈련\n",
        "    train_eval(use)\n",
        "performance_df = pd.DataFrame(performance_dict).T"
      ],
      "execution_count": 24,
      "outputs": [
        {
          "output_type": "stream",
          "text": [
            "\n",
            "###### Using Activation Function: RELU ######\n",
            "[Epoch:  1] train_loss: 0.7836, train_acc: 0.7396, test_acc: 0.9093, best_acc: 0.9093\n",
            "[Epoch:  2] train_loss: 0.2399, train_acc: 0.9306, test_acc: 0.9340, best_acc: 0.9340\n",
            "[Epoch:  3] train_loss: 0.1661, train_acc: 0.9514, test_acc: 0.9497, best_acc: 0.9497\n",
            "[Epoch:  4] train_loss: 0.1364, train_acc: 0.9599, test_acc: 0.9560, best_acc: 0.9560\n",
            "[Epoch:  5] train_loss: 0.1145, train_acc: 0.9662, test_acc: 0.9627, best_acc: 0.9627\n",
            "[Epoch:  6] train_loss: 0.0991, train_acc: 0.9704, test_acc: 0.9610, best_acc: 0.9627\n",
            "[Epoch:  7] train_loss: 0.0871, train_acc: 0.9741, test_acc: 0.9644, best_acc: 0.9644\n",
            "[Epoch:  8] train_loss: 0.0793, train_acc: 0.9758, test_acc: 0.9606, best_acc: 0.9644\n",
            "[Epoch:  9] train_loss: 0.0694, train_acc: 0.9784, test_acc: 0.9616, best_acc: 0.9644\n",
            "[Epoch: 10] train_loss: 0.0654, train_acc: 0.9803, test_acc: 0.9669, best_acc: 0.9669\n",
            "\n",
            "###### Using Activation Function: SIGMOID ######\n",
            "[Epoch:  1] train_loss: 1.6815, train_acc: 0.4916, test_acc: 0.7516, best_acc: 0.7516\n",
            "[Epoch:  2] train_loss: 0.6442, train_acc: 0.8446, test_acc: 0.9082, best_acc: 0.9082\n",
            "[Epoch:  3] train_loss: 0.3225, train_acc: 0.9293, test_acc: 0.9326, best_acc: 0.9326\n",
            "[Epoch:  4] train_loss: 0.2126, train_acc: 0.9505, test_acc: 0.9383, best_acc: 0.9383\n",
            "[Epoch:  5] train_loss: 0.1624, train_acc: 0.9606, test_acc: 0.9432, best_acc: 0.9432\n",
            "[Epoch:  6] train_loss: 0.1328, train_acc: 0.9671, test_acc: 0.9479, best_acc: 0.9479\n",
            "[Epoch:  7] train_loss: 0.1112, train_acc: 0.9725, test_acc: 0.9463, best_acc: 0.9479\n",
            "[Epoch:  8] train_loss: 0.0920, train_acc: 0.9778, test_acc: 0.9457, best_acc: 0.9479\n",
            "[Epoch:  9] train_loss: 0.0820, train_acc: 0.9796, test_acc: 0.9478, best_acc: 0.9479\n",
            "[Epoch: 10] train_loss: 0.0723, train_acc: 0.9823, test_acc: 0.9489, best_acc: 0.9489\n",
            "\n",
            "###### Using Activation Function: PRELU ######\n",
            "[Epoch:  1] train_loss: 0.6335, train_acc: 0.8069, test_acc: 0.9133, best_acc: 0.9133\n",
            "[Epoch:  2] train_loss: 0.2450, train_acc: 0.9284, test_acc: 0.9378, best_acc: 0.9378\n",
            "[Epoch:  3] train_loss: 0.1753, train_acc: 0.9476, test_acc: 0.9531, best_acc: 0.9531\n",
            "[Epoch:  4] train_loss: 0.1322, train_acc: 0.9592, test_acc: 0.9524, best_acc: 0.9531\n",
            "[Epoch:  5] train_loss: 0.1131, train_acc: 0.9654, test_acc: 0.9551, best_acc: 0.9551\n",
            "[Epoch:  6] train_loss: 0.0849, train_acc: 0.9742, test_acc: 0.9639, best_acc: 0.9639\n",
            "[Epoch:  7] train_loss: 0.0729, train_acc: 0.9771, test_acc: 0.9605, best_acc: 0.9639\n",
            "[Epoch:  8] train_loss: 0.0611, train_acc: 0.9807, test_acc: 0.9661, best_acc: 0.9661\n",
            "[Epoch:  9] train_loss: 0.0518, train_acc: 0.9830, test_acc: 0.9691, best_acc: 0.9691\n",
            "[Epoch: 10] train_loss: 0.0467, train_acc: 0.9851, test_acc: 0.9656, best_acc: 0.9691\n",
            "\n",
            "###### Using Activation Function: LEAKY_RELU ######\n",
            "[Epoch:  1] train_loss: 0.7235, train_acc: 0.7688, test_acc: 0.9067, best_acc: 0.9067\n",
            "[Epoch:  2] train_loss: 0.2243, train_acc: 0.9326, test_acc: 0.9488, best_acc: 0.9488\n",
            "[Epoch:  3] train_loss: 0.1481, train_acc: 0.9560, test_acc: 0.9574, best_acc: 0.9574\n",
            "[Epoch:  4] train_loss: 0.1184, train_acc: 0.9646, test_acc: 0.9586, best_acc: 0.9586\n",
            "[Epoch:  5] train_loss: 0.0978, train_acc: 0.9700, test_acc: 0.9640, best_acc: 0.9640\n",
            "[Epoch:  6] train_loss: 0.0810, train_acc: 0.9747, test_acc: 0.9630, best_acc: 0.9640\n",
            "[Epoch:  7] train_loss: 0.0709, train_acc: 0.9778, test_acc: 0.9629, best_acc: 0.9640\n",
            "[Epoch:  8] train_loss: 0.0640, train_acc: 0.9795, test_acc: 0.9666, best_acc: 0.9666\n",
            "[Epoch:  9] train_loss: 0.0567, train_acc: 0.9817, test_acc: 0.9685, best_acc: 0.9685\n",
            "[Epoch: 10] train_loss: 0.0479, train_acc: 0.9844, test_acc: 0.9681, best_acc: 0.9685\n",
            "\n",
            "###### Using Activation Function: ELU ######\n",
            "[Epoch:  1] train_loss: 0.6078, train_acc: 0.8091, test_acc: 0.9151, best_acc: 0.9151\n",
            "[Epoch:  2] train_loss: 0.2019, train_acc: 0.9396, test_acc: 0.9262, best_acc: 0.9262\n",
            "[Epoch:  3] train_loss: 0.1347, train_acc: 0.9593, test_acc: 0.9280, best_acc: 0.9280\n",
            "[Epoch:  4] train_loss: 0.1048, train_acc: 0.9684, test_acc: 0.9236, best_acc: 0.9280\n",
            "[Epoch:  5] train_loss: 0.0861, train_acc: 0.9727, test_acc: 0.9188, best_acc: 0.9280\n",
            "[Epoch:  6] train_loss: 0.0700, train_acc: 0.9780, test_acc: 0.9191, best_acc: 0.9280\n",
            "[Epoch:  7] train_loss: 0.0606, train_acc: 0.9805, test_acc: 0.9120, best_acc: 0.9280\n",
            "[Epoch:  8] train_loss: 0.0524, train_acc: 0.9828, test_acc: 0.9287, best_acc: 0.9287\n",
            "[Epoch:  9] train_loss: 0.0451, train_acc: 0.9854, test_acc: 0.9013, best_acc: 0.9287\n",
            "[Epoch: 10] train_loss: 0.0425, train_acc: 0.9857, test_acc: 0.8993, best_acc: 0.9287\n",
            "\n",
            "###### Using Activation Function: CUSTOM ######\n",
            "[Epoch:  1] train_loss: 0.7017, train_acc: 0.7738, test_acc: 0.9225, best_acc: 0.9225\n",
            "[Epoch:  2] train_loss: 0.2076, train_acc: 0.9386, test_acc: 0.9458, best_acc: 0.9458\n",
            "[Epoch:  3] train_loss: 0.1490, train_acc: 0.9544, test_acc: 0.9577, best_acc: 0.9577\n",
            "[Epoch:  4] train_loss: 0.1161, train_acc: 0.9658, test_acc: 0.9578, best_acc: 0.9578\n",
            "[Epoch:  5] train_loss: 0.0950, train_acc: 0.9711, test_acc: 0.9649, best_acc: 0.9649\n",
            "[Epoch:  6] train_loss: 0.0783, train_acc: 0.9760, test_acc: 0.9639, best_acc: 0.9649\n",
            "[Epoch:  7] train_loss: 0.0705, train_acc: 0.9776, test_acc: 0.9692, best_acc: 0.9692\n",
            "[Epoch:  8] train_loss: 0.0641, train_acc: 0.9799, test_acc: 0.9707, best_acc: 0.9707\n",
            "[Epoch:  9] train_loss: 0.0527, train_acc: 0.9836, test_acc: 0.9703, best_acc: 0.9707\n",
            "[Epoch: 10] train_loss: 0.0452, train_acc: 0.9861, test_acc: 0.9694, best_acc: 0.9707\n"
          ],
          "name": "stdout"
        }
      ]
    },
    {
      "cell_type": "code",
      "metadata": {
        "id": "tbbYtSWlJBR-",
        "colab": {
          "base_uri": "https://localhost:8080/",
          "height": 234
        },
        "outputId": "5662c9e1-fc70-4f93-abf9-e90a55caec69"
      },
      "source": [
        "performance_df"
      ],
      "execution_count": 25,
      "outputs": [
        {
          "output_type": "execute_result",
          "data": {
            "text/html": [
              "<div>\n",
              "<style scoped>\n",
              "    .dataframe tbody tr th:only-of-type {\n",
              "        vertical-align: middle;\n",
              "    }\n",
              "\n",
              "    .dataframe tbody tr th {\n",
              "        vertical-align: top;\n",
              "    }\n",
              "\n",
              "    .dataframe thead th {\n",
              "        text-align: right;\n",
              "    }\n",
              "</style>\n",
              "<table border=\"1\" class=\"dataframe\">\n",
              "  <thead>\n",
              "    <tr style=\"text-align: right;\">\n",
              "      <th></th>\n",
              "      <th>time</th>\n",
              "      <th>accuracy</th>\n",
              "    </tr>\n",
              "  </thead>\n",
              "  <tbody>\n",
              "    <tr>\n",
              "      <th>relu</th>\n",
              "      <td>70.979829</td>\n",
              "      <td>0.9669</td>\n",
              "    </tr>\n",
              "    <tr>\n",
              "      <th>sigmoid</th>\n",
              "      <td>70.341251</td>\n",
              "      <td>0.9489</td>\n",
              "    </tr>\n",
              "    <tr>\n",
              "      <th>prelu</th>\n",
              "      <td>70.558551</td>\n",
              "      <td>0.9691</td>\n",
              "    </tr>\n",
              "    <tr>\n",
              "      <th>leaky_relu</th>\n",
              "      <td>70.260318</td>\n",
              "      <td>0.9685</td>\n",
              "    </tr>\n",
              "    <tr>\n",
              "      <th>elu</th>\n",
              "      <td>70.542988</td>\n",
              "      <td>0.9287</td>\n",
              "    </tr>\n",
              "    <tr>\n",
              "      <th>custom</th>\n",
              "      <td>70.468654</td>\n",
              "      <td>0.9707</td>\n",
              "    </tr>\n",
              "  </tbody>\n",
              "</table>\n",
              "</div>"
            ],
            "text/plain": [
              "                 time  accuracy\n",
              "relu        70.979829    0.9669\n",
              "sigmoid     70.341251    0.9489\n",
              "prelu       70.558551    0.9691\n",
              "leaky_relu  70.260318    0.9685\n",
              "elu         70.542988    0.9287\n",
              "custom      70.468654    0.9707"
            ]
          },
          "metadata": {
            "tags": []
          },
          "execution_count": 25
        }
      ]
    },
    {
      "cell_type": "code",
      "metadata": {
        "id": "bblyiEm_JBSA",
        "colab": {
          "base_uri": "https://localhost:8080/",
          "height": 471
        },
        "outputId": "14b514f7-0605-4591-efd4-95748cf82613"
      },
      "source": [
        "print(f\"Best Accuracy Activation Function was: {performance_df['accuracy'].max():.4f}, {performance_df.index[performance_df['accuracy'].argmax()]}\")\n",
        "print(f\"Custom Activation Function Accuracy Rank: {int(performance_df['accuracy'].rank(method='max', ascending=False)['custom'])}\")\n",
        "print(f\"Custom Activation Function Time Complexity Rank: {int(performance_df['time'].rank(method='min')['custom'])}\")\n",
        "\n",
        "plt.figure(figsize=(8, 6))\n",
        "sns.set_style('darkgrid')\n",
        "plt.rcParams.update({'font.size': 15})\n",
        "plt.title(\"Activation Function Compare Plot\")\n",
        "sns.scatterplot(data=performance_df, x='time', y='accuracy', hue=performance_df.index, s=100)\n",
        "plt.show()"
      ],
      "execution_count": 26,
      "outputs": [
        {
          "output_type": "stream",
          "text": [
            "Best Accuracy Activation Function was: 0.9707, custom\n",
            "Custom Activation Function Accuracy Rank: 1\n",
            "Custom Activation Function Time Complexity Rank: 3\n"
          ],
          "name": "stdout"
        },
        {
          "output_type": "display_data",
          "data": {
            "image/png": "[encoded data removed]",
            "text/plain": [
              "<Figure size 576x432 with 1 Axes>"
            ]
          },
          "metadata": {
            "tags": [],
            "needs_background": "light"
          }
        }
      ]
    },
    {
      "cell_type": "markdown",
      "metadata": {
        "id": "EyTos63GuQd2"
      },
      "source": [
        "\n",
        "# < 손글씨 이미지 분류 >\n",
        "\n",
        "5. ***손글씨 이미지 분류 성능이 활성화 함수에 따라 어떻게 달라지는지 확인해보세요.***\n",
        "\n",
        "\n",
        "6. ***가장 성능이 좋았던, 그리고 가장 빠르게 모델이 학습되었던 활성화 함수는 각각 무엇인가요? 정의된 모델 구조를 참고하여 왜 그러한 결과가 나왔는지 분석해주세요.***\n",
        "\n",
        "정확성이 가장 높았던 활성화 함수는 leaky_relu의 negative slope를 변형한 custom activation function이었고, 가장 빨랐던 것은 leaky_relu였습니다.\n",
        "\n",
        ".\n",
        ".\n",
        "."
      ]
    }
  ]
}