{
  "nbformat": 4,
  "nbformat_minor": 0,
  "metadata": {
    "kernelspec": {
      "display_name": "Python 3",
      "language": "python",
      "name": "python3"
    },
    "language_info": {
      "codemirror_mode": {
        "name": "ipython",
        "version": 3
      },
      "file_extension": ".py",
      "mimetype": "text/x-python",
      "name": "python",
      "nbconvert_exporter": "python",
      "pygments_lexer": "ipython3",
      "version": "3.8.5"
    },
    "colab": {
      "name": "YAI_2주차 과제_activation function",
      "provenance": [],
      "collapsed_sections": [
        "cZS0oCzPLbBP",
        "bebvInNcJBQ3",
        "ZiGtIqC_JBQj",
        "lO6flsUSJBRE",
        "P-tDsQ8nJBRU"
      ],
      "include_colab_link": true
    },
    "accelerator": "GPU",
    "widgets": {
      "application/vnd.jupyter.widget-state+json": {
        "61e3709147474f6b8fd9551a0af6e247": {
          "model_module": "@jupyter-widgets/controls",
          "model_name": "HBoxModel",
          "state": {
            "_view_name": "HBoxView",
            "_dom_classes": [],
            "_model_name": "HBoxModel",
            "_view_module": "@jupyter-widgets/controls",
            "_model_module_version": "1.5.0",
            "_view_count": null,
            "_view_module_version": "1.5.0",
            "box_style": "",
            "layout": "IPY_MODEL_b19bf4a41dcf43499d237f4b62c41f90",
            "_model_module": "@jupyter-widgets/controls",
            "children": [
              "IPY_MODEL_61abca1022094aa29518dbc60ac28cae",
              "IPY_MODEL_2b73e5b36b0a42ec8c0f13abe922cef6"
            ]
          }
        },
        "b19bf4a41dcf43499d237f4b62c41f90": {
          "model_module": "@jupyter-widgets/base",
          "model_name": "LayoutModel",
          "state": {
            "_view_name": "LayoutView",
            "grid_template_rows": null,
            "right": null,
            "justify_content": null,
            "_view_module": "@jupyter-widgets/base",
            "overflow": null,
            "_model_module_version": "1.2.0",
            "_view_count": null,
            "flex_flow": null,
            "width": null,
            "min_width": null,
            "border": null,
            "align_items": null,
            "bottom": null,
            "_model_module": "@jupyter-widgets/base",
            "top": null,
            "grid_column": null,
            "overflow_y": null,
            "overflow_x": null,
            "grid_auto_flow": null,
            "grid_area": null,
            "grid_template_columns": null,
            "flex": null,
            "_model_name": "LayoutModel",
            "justify_items": null,
            "grid_row": null,
            "max_height": null,
            "align_content": null,
            "visibility": null,
            "align_self": null,
            "height": null,
            "min_height": null,
            "padding": null,
            "grid_auto_rows": null,
            "grid_gap": null,
            "max_width": null,
            "order": null,
            "_view_module_version": "1.2.0",
            "grid_template_areas": null,
            "object_position": null,
            "object_fit": null,
            "grid_auto_columns": null,
            "margin": null,
            "display": null,
            "left": null
          }
        },
        "61abca1022094aa29518dbc60ac28cae": {
          "model_module": "@jupyter-widgets/controls",
          "model_name": "FloatProgressModel",
          "state": {
            "_view_name": "ProgressView",
            "style": "IPY_MODEL_48bd0d70aa6c48a58817e7b3c9941005",
            "_dom_classes": [],
            "description": "",
            "_model_name": "FloatProgressModel",
            "bar_style": "success",
            "max": 9912422,
            "_view_module": "@jupyter-widgets/controls",
            "_model_module_version": "1.5.0",
            "value": 9912422,
            "_view_count": null,
            "_view_module_version": "1.5.0",
            "orientation": "horizontal",
            "min": 0,
            "description_tooltip": null,
            "_model_module": "@jupyter-widgets/controls",
            "layout": "IPY_MODEL_d71cc449ecde4bcc988be130d0be76fb"
          }
        },
        "2b73e5b36b0a42ec8c0f13abe922cef6": {
          "model_module": "@jupyter-widgets/controls",
          "model_name": "HTMLModel",
          "state": {
            "_view_name": "HTMLView",
            "style": "IPY_MODEL_de4b523699324f52ac64cf54721fbe27",
            "_dom_classes": [],
            "description": "",
            "_model_name": "HTMLModel",
            "placeholder": "​",
            "_view_module": "@jupyter-widgets/controls",
            "_model_module_version": "1.5.0",
            "value": " 9913344/? [00:11&lt;00:00, 895059.70it/s]",
            "_view_count": null,
            "_view_module_version": "1.5.0",
            "description_tooltip": null,
            "_model_module": "@jupyter-widgets/controls",
            "layout": "IPY_MODEL_3c5c19c1efa246d7b61a70277ebcce8a"
          }
        },
        "48bd0d70aa6c48a58817e7b3c9941005": {
          "model_module": "@jupyter-widgets/controls",
          "model_name": "ProgressStyleModel",
          "state": {
            "_view_name": "StyleView",
            "_model_name": "ProgressStyleModel",
            "description_width": "initial",
            "_view_module": "@jupyter-widgets/base",
            "_model_module_version": "1.5.0",
            "_view_count": null,
            "_view_module_version": "1.2.0",
            "bar_color": null,
            "_model_module": "@jupyter-widgets/controls"
          }
        },
        "d71cc449ecde4bcc988be130d0be76fb": {
          "model_module": "@jupyter-widgets/base",
          "model_name": "LayoutModel",
          "state": {
            "_view_name": "LayoutView",
            "grid_template_rows": null,
            "right": null,
            "justify_content": null,
            "_view_module": "@jupyter-widgets/base",
            "overflow": null,
            "_model_module_version": "1.2.0",
            "_view_count": null,
            "flex_flow": null,
            "width": null,
            "min_width": null,
            "border": null,
            "align_items": null,
            "bottom": null,
            "_model_module": "@jupyter-widgets/base",
            "top": null,
            "grid_column": null,
            "overflow_y": null,
            "overflow_x": null,
            "grid_auto_flow": null,
            "grid_area": null,
            "grid_template_columns": null,
            "flex": null,
            "_model_name": "LayoutModel",
            "justify_items": null,
            "grid_row": null,
            "max_height": null,
            "align_content": null,
            "visibility": null,
            "align_self": null,
            "height": null,
            "min_height": null,
            "padding": null,
            "grid_auto_rows": null,
            "grid_gap": null,
            "max_width": null,
            "order": null,
            "_view_module_version": "1.2.0",
            "grid_template_areas": null,
            "object_position": null,
            "object_fit": null,
            "grid_auto_columns": null,
            "margin": null,
            "display": null,
            "left": null
          }
        },
        "de4b523699324f52ac64cf54721fbe27": {
          "model_module": "@jupyter-widgets/controls",
          "model_name": "DescriptionStyleModel",
          "state": {
            "_view_name": "StyleView",
            "_model_name": "DescriptionStyleModel",
            "description_width": "",
            "_view_module": "@jupyter-widgets/base",
            "_model_module_version": "1.5.0",
            "_view_count": null,
            "_view_module_version": "1.2.0",
            "_model_module": "@jupyter-widgets/controls"
          }
        },
        "3c5c19c1efa246d7b61a70277ebcce8a": {
          "model_module": "@jupyter-widgets/base",
          "model_name": "LayoutModel",
          "state": {
            "_view_name": "LayoutView",
            "grid_template_rows": null,
            "right": null,
            "justify_content": null,
            "_view_module": "@jupyter-widgets/base",
            "overflow": null,
            "_model_module_version": "1.2.0",
            "_view_count": null,
            "flex_flow": null,
            "width": null,
            "min_width": null,
            "border": null,
            "align_items": null,
            "bottom": null,
            "_model_module": "@jupyter-widgets/base",
            "top": null,
            "grid_column": null,
            "overflow_y": null,
            "overflow_x": null,
            "grid_auto_flow": null,
            "grid_area": null,
            "grid_template_columns": null,
            "flex": null,
            "_model_name": "LayoutModel",
            "justify_items": null,
            "grid_row": null,
            "max_height": null,
            "align_content": null,
            "visibility": null,
            "align_self": null,
            "height": null,
            "min_height": null,
            "padding": null,
            "grid_auto_rows": null,
            "grid_gap": null,
            "max_width": null,
            "order": null,
            "_view_module_version": "1.2.0",
            "grid_template_areas": null,
            "object_position": null,
            "object_fit": null,
            "grid_auto_columns": null,
            "margin": null,
            "display": null,
            "left": null
          }
        },
        "23cd071630a74734b4cf4da212f1bea5": {
          "model_module": "@jupyter-widgets/controls",
          "model_name": "HBoxModel",
          "state": {
            "_view_name": "HBoxView",
            "_dom_classes": [],
            "_model_name": "HBoxModel",
            "_view_module": "@jupyter-widgets/controls",
            "_model_module_version": "1.5.0",
            "_view_count": null,
            "_view_module_version": "1.5.0",
            "box_style": "",
            "layout": "IPY_MODEL_d38c391ab93e4bc4b8b1060ef6ed9ac9",
            "_model_module": "@jupyter-widgets/controls",
            "children": [
              "IPY_MODEL_804ac519896d4e0e895fdd7149e632e6",
              "IPY_MODEL_8102a6f2a7db4413b97ed526153b057c"
            ]
          }
        },
        "d38c391ab93e4bc4b8b1060ef6ed9ac9": {
          "model_module": "@jupyter-widgets/base",
          "model_name": "LayoutModel",
          "state": {
            "_view_name": "LayoutView",
            "grid_template_rows": null,
            "right": null,
            "justify_content": null,
            "_view_module": "@jupyter-widgets/base",
            "overflow": null,
            "_model_module_version": "1.2.0",
            "_view_count": null,
            "flex_flow": null,
            "width": null,
            "min_width": null,
            "border": null,
            "align_items": null,
            "bottom": null,
            "_model_module": "@jupyter-widgets/base",
            "top": null,
            "grid_column": null,
            "overflow_y": null,
            "overflow_x": null,
            "grid_auto_flow": null,
            "grid_area": null,
            "grid_template_columns": null,
            "flex": null,
            "_model_name": "LayoutModel",
            "justify_items": null,
            "grid_row": null,
            "max_height": null,
            "align_content": null,
            "visibility": null,
            "align_self": null,
            "height": null,
            "min_height": null,
            "padding": null,
            "grid_auto_rows": null,
            "grid_gap": null,
            "max_width": null,
            "order": null,
            "_view_module_version": "1.2.0",
            "grid_template_areas": null,
            "object_position": null,
            "object_fit": null,
            "grid_auto_columns": null,
            "margin": null,
            "display": null,
            "left": null
          }
        },
        "804ac519896d4e0e895fdd7149e632e6": {
          "model_module": "@jupyter-widgets/controls",
          "model_name": "FloatProgressModel",
          "state": {
            "_view_name": "ProgressView",
            "style": "IPY_MODEL_66c940fea9b8458f95fdafb3c5a89158",
            "_dom_classes": [],
            "description": "",
            "_model_name": "FloatProgressModel",
            "bar_style": "success",
            "max": 28881,
            "_view_module": "@jupyter-widgets/controls",
            "_model_module_version": "1.5.0",
            "value": 28881,
            "_view_count": null,
            "_view_module_version": "1.5.0",
            "orientation": "horizontal",
            "min": 0,
            "description_tooltip": null,
            "_model_module": "@jupyter-widgets/controls",
            "layout": "IPY_MODEL_41529302bbd34f2fb3b83005f3f42e5f"
          }
        },
        "8102a6f2a7db4413b97ed526153b057c": {
          "model_module": "@jupyter-widgets/controls",
          "model_name": "HTMLModel",
          "state": {
            "_view_name": "HTMLView",
            "style": "IPY_MODEL_825d634347f547939837a440e947d644",
            "_dom_classes": [],
            "description": "",
            "_model_name": "HTMLModel",
            "placeholder": "​",
            "_view_module": "@jupyter-widgets/controls",
            "_model_module_version": "1.5.0",
            "value": " 29696/? [00:06&lt;00:00, 4547.51it/s]",
            "_view_count": null,
            "_view_module_version": "1.5.0",
            "description_tooltip": null,
            "_model_module": "@jupyter-widgets/controls",
            "layout": "IPY_MODEL_bad591dc65d24091b09ffbef33944114"
          }
        },
        "66c940fea9b8458f95fdafb3c5a89158": {
          "model_module": "@jupyter-widgets/controls",
          "model_name": "ProgressStyleModel",
          "state": {
            "_view_name": "StyleView",
            "_model_name": "ProgressStyleModel",
            "description_width": "initial",
            "_view_module": "@jupyter-widgets/base",
            "_model_module_version": "1.5.0",
            "_view_count": null,
            "_view_module_version": "1.2.0",
            "bar_color": null,
            "_model_module": "@jupyter-widgets/controls"
          }
        },
        "41529302bbd34f2fb3b83005f3f42e5f": {
          "model_module": "@jupyter-widgets/base",
          "model_name": "LayoutModel",
          "state": {
            "_view_name": "LayoutView",
            "grid_template_rows": null,
            "right": null,
            "justify_content": null,
            "_view_module": "@jupyter-widgets/base",
            "overflow": null,
            "_model_module_version": "1.2.0",
            "_view_count": null,
            "flex_flow": null,
            "width": null,
            "min_width": null,
            "border": null,
            "align_items": null,
            "bottom": null,
            "_model_module": "@jupyter-widgets/base",
            "top": null,
            "grid_column": null,
            "overflow_y": null,
            "overflow_x": null,
            "grid_auto_flow": null,
            "grid_area": null,
            "grid_template_columns": null,
            "flex": null,
            "_model_name": "LayoutModel",
            "justify_items": null,
            "grid_row": null,
            "max_height": null,
            "align_content": null,
            "visibility": null,
            "align_self": null,
            "height": null,
            "min_height": null,
            "padding": null,
            "grid_auto_rows": null,
            "grid_gap": null,
            "max_width": null,
            "order": null,
            "_view_module_version": "1.2.0",
            "grid_template_areas": null,
            "object_position": null,
            "object_fit": null,
            "grid_auto_columns": null,
            "margin": null,
            "display": null,
            "left": null
          }
        },
        "825d634347f547939837a440e947d644": {
          "model_module": "@jupyter-widgets/controls",
          "model_name": "DescriptionStyleModel",
          "state": {
            "_view_name": "StyleView",
            "_model_name": "DescriptionStyleModel",
            "description_width": "",
            "_view_module": "@jupyter-widgets/base",
            "_model_module_version": "1.5.0",
            "_view_count": null,
            "_view_module_version": "1.2.0",
            "_model_module": "@jupyter-widgets/controls"
          }
        },
        "bad591dc65d24091b09ffbef33944114": {
          "model_module": "@jupyter-widgets/base",
          "model_name": "LayoutModel",
          "state": {
            "_view_name": "LayoutView",
            "grid_template_rows": null,
            "right": null,
            "justify_content": null,
            "_view_module": "@jupyter-widgets/base",
            "overflow": null,
            "_model_module_version": "1.2.0",
            "_view_count": null,
            "flex_flow": null,
            "width": null,
            "min_width": null,
            "border": null,
            "align_items": null,
            "bottom": null,
            "_model_module": "@jupyter-widgets/base",
            "top": null,
            "grid_column": null,
            "overflow_y": null,
            "overflow_x": null,
            "grid_auto_flow": null,
            "grid_area": null,
            "grid_template_columns": null,
            "flex": null,
            "_model_name": "LayoutModel",
            "justify_items": null,
            "grid_row": null,
            "max_height": null,
            "align_content": null,
            "visibility": null,
            "align_self": null,
            "height": null,
            "min_height": null,
            "padding": null,
            "grid_auto_rows": null,
            "grid_gap": null,
            "max_width": null,
            "order": null,
            "_view_module_version": "1.2.0",
            "grid_template_areas": null,
            "object_position": null,
            "object_fit": null,
            "grid_auto_columns": null,
            "margin": null,
            "display": null,
            "left": null
          }
        },
        "eddcd969ad414c998c34813024927098": {
          "model_module": "@jupyter-widgets/controls",
          "model_name": "HBoxModel",
          "state": {
            "_view_name": "HBoxView",
            "_dom_classes": [],
            "_model_name": "HBoxModel",
            "_view_module": "@jupyter-widgets/controls",
            "_model_module_version": "1.5.0",
            "_view_count": null,
            "_view_module_version": "1.5.0",
            "box_style": "",
            "layout": "IPY_MODEL_6f5addcd772b4cb5adaad1caa221a04d",
            "_model_module": "@jupyter-widgets/controls",
            "children": [
              "IPY_MODEL_9e9c467a9489472a83065d0744b867da",
              "IPY_MODEL_c66e3e9d376447b2a962092b519e7f6b"
            ]
          }
        },
        "6f5addcd772b4cb5adaad1caa221a04d": {
          "model_module": "@jupyter-widgets/base",
          "model_name": "LayoutModel",
          "state": {
            "_view_name": "LayoutView",
            "grid_template_rows": null,
            "right": null,
            "justify_content": null,
            "_view_module": "@jupyter-widgets/base",
            "overflow": null,
            "_model_module_version": "1.2.0",
            "_view_count": null,
            "flex_flow": null,
            "width": null,
            "min_width": null,
            "border": null,
            "align_items": null,
            "bottom": null,
            "_model_module": "@jupyter-widgets/base",
            "top": null,
            "grid_column": null,
            "overflow_y": null,
            "overflow_x": null,
            "grid_auto_flow": null,
            "grid_area": null,
            "grid_template_columns": null,
            "flex": null,
            "_model_name": "LayoutModel",
            "justify_items": null,
            "grid_row": null,
            "max_height": null,
            "align_content": null,
            "visibility": null,
            "align_self": null,
            "height": null,
            "min_height": null,
            "padding": null,
            "grid_auto_rows": null,
            "grid_gap": null,
            "max_width": null,
            "order": null,
            "_view_module_version": "1.2.0",
            "grid_template_areas": null,
            "object_position": null,
            "object_fit": null,
            "grid_auto_columns": null,
            "margin": null,
            "display": null,
            "left": null
          }
        },
        "9e9c467a9489472a83065d0744b867da": {
          "model_module": "@jupyter-widgets/controls",
          "model_name": "FloatProgressModel",
          "state": {
            "_view_name": "ProgressView",
            "style": "IPY_MODEL_8ebf395333804efc94cd7f4a59d5ea30",
            "_dom_classes": [],
            "description": "",
            "_model_name": "FloatProgressModel",
            "bar_style": "success",
            "max": 1648877,
            "_view_module": "@jupyter-widgets/controls",
            "_model_module_version": "1.5.0",
            "value": 1648877,
            "_view_count": null,
            "_view_module_version": "1.5.0",
            "orientation": "horizontal",
            "min": 0,
            "description_tooltip": null,
            "_model_module": "@jupyter-widgets/controls",
            "layout": "IPY_MODEL_94823f0e224a4444be56cbe68b37533c"
          }
        },
        "c66e3e9d376447b2a962092b519e7f6b": {
          "model_module": "@jupyter-widgets/controls",
          "model_name": "HTMLModel",
          "state": {
            "_view_name": "HTMLView",
            "style": "IPY_MODEL_f83ae60b8b4d4a7e946e3b53312057f1",
            "_dom_classes": [],
            "description": "",
            "_model_name": "HTMLModel",
            "placeholder": "​",
            "_view_module": "@jupyter-widgets/controls",
            "_model_module_version": "1.5.0",
            "value": " 1649664/? [00:03&lt;00:00, 454011.31it/s]",
            "_view_count": null,
            "_view_module_version": "1.5.0",
            "description_tooltip": null,
            "_model_module": "@jupyter-widgets/controls",
            "layout": "IPY_MODEL_1daf557683a34b159cca53a3769de817"
          }
        },
        "8ebf395333804efc94cd7f4a59d5ea30": {
          "model_module": "@jupyter-widgets/controls",
          "model_name": "ProgressStyleModel",
          "state": {
            "_view_name": "StyleView",
            "_model_name": "ProgressStyleModel",
            "description_width": "initial",
            "_view_module": "@jupyter-widgets/base",
            "_model_module_version": "1.5.0",
            "_view_count": null,
            "_view_module_version": "1.2.0",
            "bar_color": null,
            "_model_module": "@jupyter-widgets/controls"
          }
        },
        "94823f0e224a4444be56cbe68b37533c": {
          "model_module": "@jupyter-widgets/base",
          "model_name": "LayoutModel",
          "state": {
            "_view_name": "LayoutView",
            "grid_template_rows": null,
            "right": null,
            "justify_content": null,
            "_view_module": "@jupyter-widgets/base",
            "overflow": null,
            "_model_module_version": "1.2.0",
            "_view_count": null,
            "flex_flow": null,
            "width": null,
            "min_width": null,
            "border": null,
            "align_items": null,
            "bottom": null,
            "_model_module": "@jupyter-widgets/base",
            "top": null,
            "grid_column": null,
            "overflow_y": null,
            "overflow_x": null,
            "grid_auto_flow": null,
            "grid_area": null,
            "grid_template_columns": null,
            "flex": null,
            "_model_name": "LayoutModel",
            "justify_items": null,
            "grid_row": null,
            "max_height": null,
            "align_content": null,
            "visibility": null,
            "align_self": null,
            "height": null,
            "min_height": null,
            "padding": null,
            "grid_auto_rows": null,
            "grid_gap": null,
            "max_width": null,
            "order": null,
            "_view_module_version": "1.2.0",
            "grid_template_areas": null,
            "object_position": null,
            "object_fit": null,
            "grid_auto_columns": null,
            "margin": null,
            "display": null,
            "left": null
          }
        },
        "f83ae60b8b4d4a7e946e3b53312057f1": {
          "model_module": "@jupyter-widgets/controls",
          "model_name": "DescriptionStyleModel",
          "state": {
            "_view_name": "StyleView",
            "_model_name": "DescriptionStyleModel",
            "description_width": "",
            "_view_module": "@jupyter-widgets/base",
            "_model_module_version": "1.5.0",
            "_view_count": null,
            "_view_module_version": "1.2.0",
            "_model_module": "@jupyter-widgets/controls"
          }
        },
        "1daf557683a34b159cca53a3769de817": {
          "model_module": "@jupyter-widgets/base",
          "model_name": "LayoutModel",
          "state": {
            "_view_name": "LayoutView",
            "grid_template_rows": null,
            "right": null,
            "justify_content": null,
            "_view_module": "@jupyter-widgets/base",
            "overflow": null,
            "_model_module_version": "1.2.0",
            "_view_count": null,
            "flex_flow": null,
            "width": null,
            "min_width": null,
            "border": null,
            "align_items": null,
            "bottom": null,
            "_model_module": "@jupyter-widgets/base",
            "top": null,
            "grid_column": null,
            "overflow_y": null,
            "overflow_x": null,
            "grid_auto_flow": null,
            "grid_area": null,
            "grid_template_columns": null,
            "flex": null,
            "_model_name": "LayoutModel",
            "justify_items": null,
            "grid_row": null,
            "max_height": null,
            "align_content": null,
            "visibility": null,
            "align_self": null,
            "height": null,
            "min_height": null,
            "padding": null,
            "grid_auto_rows": null,
            "grid_gap": null,
            "max_width": null,
            "order": null,
            "_view_module_version": "1.2.0",
            "grid_template_areas": null,
            "object_position": null,
            "object_fit": null,
            "grid_auto_columns": null,
            "margin": null,
            "display": null,
            "left": null
          }
        },
        "3a37a43636f64e7285754217a008dc2d": {
          "model_module": "@jupyter-widgets/controls",
          "model_name": "HBoxModel",
          "state": {
            "_view_name": "HBoxView",
            "_dom_classes": [],
            "_model_name": "HBoxModel",
            "_view_module": "@jupyter-widgets/controls",
            "_model_module_version": "1.5.0",
            "_view_count": null,
            "_view_module_version": "1.5.0",
            "box_style": "",
            "layout": "IPY_MODEL_6123c96f6f6b4748aaf7c1a0d78e2ca1",
            "_model_module": "@jupyter-widgets/controls",
            "children": [
              "IPY_MODEL_92b8e289729c445e8043562a853edab9",
              "IPY_MODEL_29fea11834224dd4bbdd1363f687160a"
            ]
          }
        },
        "6123c96f6f6b4748aaf7c1a0d78e2ca1": {
          "model_module": "@jupyter-widgets/base",
          "model_name": "LayoutModel",
          "state": {
            "_view_name": "LayoutView",
            "grid_template_rows": null,
            "right": null,
            "justify_content": null,
            "_view_module": "@jupyter-widgets/base",
            "overflow": null,
            "_model_module_version": "1.2.0",
            "_view_count": null,
            "flex_flow": null,
            "width": null,
            "min_width": null,
            "border": null,
            "align_items": null,
            "bottom": null,
            "_model_module": "@jupyter-widgets/base",
            "top": null,
            "grid_column": null,
            "overflow_y": null,
            "overflow_x": null,
            "grid_auto_flow": null,
            "grid_area": null,
            "grid_template_columns": null,
            "flex": null,
            "_model_name": "LayoutModel",
            "justify_items": null,
            "grid_row": null,
            "max_height": null,
            "align_content": null,
            "visibility": null,
            "align_self": null,
            "height": null,
            "min_height": null,
            "padding": null,
            "grid_auto_rows": null,
            "grid_gap": null,
            "max_width": null,
            "order": null,
            "_view_module_version": "1.2.0",
            "grid_template_areas": null,
            "object_position": null,
            "object_fit": null,
            "grid_auto_columns": null,
            "margin": null,
            "display": null,
            "left": null
          }
        },
        "92b8e289729c445e8043562a853edab9": {
          "model_module": "@jupyter-widgets/controls",
          "model_name": "FloatProgressModel",
          "state": {
            "_view_name": "ProgressView",
            "style": "IPY_MODEL_fabaef909bd34c71a45368dcb1193511",
            "_dom_classes": [],
            "description": "",
            "_model_name": "FloatProgressModel",
            "bar_style": "success",
            "max": 4542,
            "_view_module": "@jupyter-widgets/controls",
            "_model_module_version": "1.5.0",
            "value": 4542,
            "_view_count": null,
            "_view_module_version": "1.5.0",
            "orientation": "horizontal",
            "min": 0,
            "description_tooltip": null,
            "_model_module": "@jupyter-widgets/controls",
            "layout": "IPY_MODEL_25de7e5180674539bcab668a35e76d8c"
          }
        },
        "29fea11834224dd4bbdd1363f687160a": {
          "model_module": "@jupyter-widgets/controls",
          "model_name": "HTMLModel",
          "state": {
            "_view_name": "HTMLView",
            "style": "IPY_MODEL_830029b6a5f342a493a1c0e0c93b1321",
            "_dom_classes": [],
            "description": "",
            "_model_name": "HTMLModel",
            "placeholder": "​",
            "_view_module": "@jupyter-widgets/controls",
            "_model_module_version": "1.5.0",
            "value": " 5120/? [00:00&lt;00:00, 35973.36it/s]",
            "_view_count": null,
            "_view_module_version": "1.5.0",
            "description_tooltip": null,
            "_model_module": "@jupyter-widgets/controls",
            "layout": "IPY_MODEL_58eb8c581b104b45a3d1d1a5a683eb60"
          }
        },
        "fabaef909bd34c71a45368dcb1193511": {
          "model_module": "@jupyter-widgets/controls",
          "model_name": "ProgressStyleModel",
          "state": {
            "_view_name": "StyleView",
            "_model_name": "ProgressStyleModel",
            "description_width": "initial",
            "_view_module": "@jupyter-widgets/base",
            "_model_module_version": "1.5.0",
            "_view_count": null,
            "_view_module_version": "1.2.0",
            "bar_color": null,
            "_model_module": "@jupyter-widgets/controls"
          }
        },
        "25de7e5180674539bcab668a35e76d8c": {
          "model_module": "@jupyter-widgets/base",
          "model_name": "LayoutModel",
          "state": {
            "_view_name": "LayoutView",
            "grid_template_rows": null,
            "right": null,
            "justify_content": null,
            "_view_module": "@jupyter-widgets/base",
            "overflow": null,
            "_model_module_version": "1.2.0",
            "_view_count": null,
            "flex_flow": null,
            "width": null,
            "min_width": null,
            "border": null,
            "align_items": null,
            "bottom": null,
            "_model_module": "@jupyter-widgets/base",
            "top": null,
            "grid_column": null,
            "overflow_y": null,
            "overflow_x": null,
            "grid_auto_flow": null,
            "grid_area": null,
            "grid_template_columns": null,
            "flex": null,
            "_model_name": "LayoutModel",
            "justify_items": null,
            "grid_row": null,
            "max_height": null,
            "align_content": null,
            "visibility": null,
            "align_self": null,
            "height": null,
            "min_height": null,
            "padding": null,
            "grid_auto_rows": null,
            "grid_gap": null,
            "max_width": null,
            "order": null,
            "_view_module_version": "1.2.0",
            "grid_template_areas": null,
            "object_position": null,
            "object_fit": null,
            "grid_auto_columns": null,
            "margin": null,
            "display": null,
            "left": null
          }
        },
        "830029b6a5f342a493a1c0e0c93b1321": {
          "model_module": "@jupyter-widgets/controls",
          "model_name": "DescriptionStyleModel",
          "state": {
            "_view_name": "StyleView",
            "_model_name": "DescriptionStyleModel",
            "description_width": "",
            "_view_module": "@jupyter-widgets/base",
            "_model_module_version": "1.5.0",
            "_view_count": null,
            "_view_module_version": "1.2.0",
            "_model_module": "@jupyter-widgets/controls"
          }
        },
        "58eb8c581b104b45a3d1d1a5a683eb60": {
          "model_module": "@jupyter-widgets/base",
          "model_name": "LayoutModel",
          "state": {
            "_view_name": "LayoutView",
            "grid_template_rows": null,
            "right": null,
            "justify_content": null,
            "_view_module": "@jupyter-widgets/base",
            "overflow": null,
            "_model_module_version": "1.2.0",
            "_view_count": null,
            "flex_flow": null,
            "width": null,
            "min_width": null,
            "border": null,
            "align_items": null,
            "bottom": null,
            "_model_module": "@jupyter-widgets/base",
            "top": null,
            "grid_column": null,
            "overflow_y": null,
            "overflow_x": null,
            "grid_auto_flow": null,
            "grid_area": null,
            "grid_template_columns": null,
            "flex": null,
            "_model_name": "LayoutModel",
            "justify_items": null,
            "grid_row": null,
            "max_height": null,
            "align_content": null,
            "visibility": null,
            "align_self": null,
            "height": null,
            "min_height": null,
            "padding": null,
            "grid_auto_rows": null,
            "grid_gap": null,
            "max_width": null,
            "order": null,
            "_view_module_version": "1.2.0",
            "grid_template_areas": null,
            "object_position": null,
            "object_fit": null,
            "grid_auto_columns": null,
            "margin": null,
            "display": null,
            "left": null
          }
        }
      }
    }
  },
  "cells": [
    {
      "cell_type": "markdown",
      "metadata": {
        "id": "view-in-github",
        "colab_type": "text"
      },
      "source": [
        "<a href=\"https://colab.research.google.com/github/dgymjol/cs231n/blob/main/YAI_2%EC%A3%BC%EC%B0%A8_%EA%B3%BC%EC%A0%9C_activation_function.ipynb\" target=\"_parent\"><img src=\"https://colab.research.google.com/assets/colab-badge.svg\" alt=\"Open In Colab\"/></a>"
      ]
    },
    {
      "cell_type": "markdown",
      "metadata": {
        "id": "lLIC8r3bxvNM"
      },
      "source": [
        "# < 활성화 함수(Activation function)의 역할과 조건 >\n",
        "\n",
        "- **팀원분들과 함께 하였습니다!**\n",
        "\n",
        "1. ***활성화 함수(Activation function)는 딥러닝 네트워크에서 어떤 역할을 하나요?***\n",
        "\n",
        "활성화 함수마다 구체적인 역할이 조금씩 다르지만 근본적으로, 네트워크 상에 비선형성(non-linearity)를 부여한다. 만약 어떤 딥러닝 네트워크가 선형함수만으로 이루어져 있다면, 이는 하나의 뉴런만으로도 표현이 가능하다. 하지만 활성화함수를 통해 비선형성을 부여함으로써, 네트워크의 뉴런들간에 구분을 만들어주어 네트워크 학습시에 훨씬 더 deep한 학습을 효과적으로 수행할 수 있게 만들어 준다. \n",
        "\n",
        "2. ***위에서 대답한 역할을 수행하기 위해 활성화 함수가 가져야 할 조건은 무엇인가요?***\n",
        "\n",
        "결국 활성화 함수의 목적은 deep한 학습을 효율적으로 하기 위함이다. 그러기 위해선 다음의 조건을 만족해야 한다.\n",
        "\n",
        "\n",
        "*   비선형성-> 앞서 말했듯, 활성화함수에 비선형성이 존재하지 않는다면 활성화함수의 의미 자체가 사라지게 된다.\n",
        "*   미분가능성-> 딥러닝을 학습할 때에는 대부분 backprop과 GD를 이용해서 학습을 진행하기 때문에 미분이 가능해야 한다.\n",
        "*   단조성 -> 만약 활성화 함수가 단조 증가나 단조 감소하지 않는다면, affine층으로부터 전달된 값이 충분히 output에 반영되지 않기 때문에 온전히 weight에 의한 값을 다음 neuron으로 전달하기 위해선 단조성을 가져야한다.\n",
        "*   빠른 수렴속도 -> 분류의 기준점이 되는 임계점값에 접근하는 수렴속도가 빨라야 학습속도도 빠르게 진행될 수 있다.\n",
        "*   기울기가 너무 크게 증가하거나 감소해서는 안된다-> deep한 네트워크에서는 backprop시에 gradient가 vanish하거나 overflood할 수 있기 때문이다."
      ]
    },
    {
      "cell_type": "markdown",
      "metadata": {
        "id": "z23fInsrJVA_"
      },
      "source": [
        "### Module Import & Set Device"
      ]
    },
    {
      "cell_type": "code",
      "metadata": {
        "id": "qDv2R7qDJBOo"
      },
      "source": [
        "import torch\n",
        "import torchvision.datasets as dsets\n",
        "import torchvision.transforms as transforms\n",
        "import time\n",
        "\n",
        "import pandas as pd\n",
        "import seaborn as sns\n",
        "import matplotlib.pyplot as plt"
      ],
      "execution_count": 1,
      "outputs": []
    },
    {
      "cell_type": "code",
      "metadata": {
        "id": "J5qEqcUbJBPX"
      },
      "source": [
        "device = 'cuda' if torch.cuda.is_available() else 'cpu'\n",
        "\n",
        "torch.manual_seed(777)  # 랜덤 시드 고정\n",
        "\n",
        "if device == 'cuda':\n",
        "    torch.cuda.manual_seed_all(777) # GPU 사용 가능할경우 랜덤 시드 고정"
      ],
      "execution_count": 2,
      "outputs": []
    },
    {
      "cell_type": "markdown",
      "metadata": {
        "id": "6rhaabBsLtNR"
      },
      "source": [
        "# Activation Function 구현\n",
        "\n",
        "3. ***주어진 주피터노트북 코드의 #TODO#를 PyTorch를 사용해 작성하여 각 활성화함수를 구현해보세요.***\n",
        "\n",
        "4. ***Custom activation function을 정의해 각 팀이 생각하는 조건을 갖춘 활성화 함수를 만들고 설명해주세요.***\n"
      ]
    },
    {
      "cell_type": "markdown",
      "metadata": {
        "id": "cZS0oCzPLbBP"
      },
      "source": [
        "### Abstract Class for each Activation Funtion"
      ]
    },
    {
      "cell_type": "code",
      "metadata": {
        "id": "rWEkLTiGJBPv"
      },
      "source": [
        "class BaseActivation:\n",
        "    def __init__(self):\n",
        "        pass\n",
        "    \n",
        "    def __call__(self, x):\n",
        "        return x\n",
        "    \n",
        "    def parameters(self):\n",
        "        return []"
      ],
      "execution_count": 3,
      "outputs": []
    },
    {
      "cell_type": "markdown",
      "metadata": {
        "id": "bebvInNcJBQ3"
      },
      "source": [
        "### Sigmoid"
      ]
    },
    {
      "cell_type": "code",
      "metadata": {
        "id": "90FIOJiWJBQ6"
      },
      "source": [
        "# Hint: torch.exp함수를 사용해보세요.\n",
        "# Hint: https://pytorch.org/docs/stable/generated/torch.nn.Sigmoid.html\n",
        "\n",
        "class sigmoid(BaseActivation):\n",
        "    def __call__(self, x):\n",
        "        ################ TODO ################\n",
        "        return torch.div(torch.tensor(1.0), torch.add(torch.tensor(1.0), torch.exp(torch.negative(x))))\n",
        "        ################ TODO ################"
      ],
      "execution_count": 4,
      "outputs": []
    },
    {
      "cell_type": "markdown",
      "metadata": {
        "id": "ZiGtIqC_JBQj"
      },
      "source": [
        "### ReLU\n",
        "Relu(x) = max(0, x)"
      ]
    },
    {
      "cell_type": "code",
      "metadata": {
        "id": "FbawAVTEJBQP"
      },
      "source": [
        "zero_tensor = torch.Tensor([0]).to(device)"
      ],
      "execution_count": 5,
      "outputs": []
    },
    {
      "cell_type": "code",
      "metadata": {
        "id": "qknNNXUHJBQn"
      },
      "source": [
        "# Hint: torch.maximum과 zero_tensor를 활용해보세요.\n",
        "# Hint: https://pytorch.org/docs/stable/generated/torch.nn.ReLU.html?highlight=relu#torch.nn.ReLU\n",
        "\n",
        "class relu(BaseActivation):\n",
        "    def __call__(self, x):\n",
        "        ################ TODO ################\n",
        "        return torch.maximum(zero_tensor, x)\n",
        "        ################ TODO ################"
      ],
      "execution_count": 6,
      "outputs": []
    },
    {
      "cell_type": "markdown",
      "metadata": {
        "id": "lO6flsUSJBRE"
      },
      "source": [
        "### Leaky ReLU"
      ]
    },
    {
      "cell_type": "code",
      "metadata": {
        "id": "erEn1u70JBRG"
      },
      "source": [
        "# Hint 1: torch.Tensor를 활용해 negative slope를 정의하세요\n",
        "# Hint 2: torch.where를 활용해 조건에 따른 return값을 설정해보세요\n",
        "# Hint: https://pytorch.org/docs/stable/generated/torch.nn.LeakyReLU.html?highlight=leakyrelu\n",
        "\n",
        "class leakyrelu(BaseActivation):\n",
        "    def __init__(self):\n",
        "        ################ TODO ################\n",
        "        self.negative_slope = torch.tensor(0.01)\n",
        "        ################ TODO ################\n",
        "        \n",
        "    def __call__(self, x):\n",
        "        ################ TODO ################\n",
        "        return torch.where(x>= 0, x, self.negative_slope * x)\n",
        "        ################ TODO ################"
      ],
      "execution_count": 7,
      "outputs": []
    },
    {
      "cell_type": "markdown",
      "metadata": {
        "id": "e3zrXoF2JBRJ"
      },
      "source": [
        "### PReLU"
      ]
    },
    {
      "cell_type": "code",
      "metadata": {
        "id": "5dp188PQJBRL"
      },
      "source": [
        "# Hint: 위와 마찬가지로 조건에 따른 return값을 설정해보세요.\n",
        "# Hint: https://pytorch.org/docs/stable/generated/torch.nn.PReLU.html?highlight=prelu#torch.nn.PReLU\n",
        "\n",
        "class prelu(BaseActivation):\n",
        "    def __init__(self):\n",
        "        self.alpha = torch.empty(1).fill_(0.25).to(device).requires_grad_()\n",
        "        \n",
        "    def __call__(self, x):\n",
        "        ################ TODO ################\n",
        "        return torch.where(x>= 0, x, self.alpha * x)      \n",
        "        ################ TODO ################\n",
        "        \n",
        "    def parameters(self):\n",
        "        return [self.alpha]"
      ],
      "execution_count": 8,
      "outputs": []
    },
    {
      "cell_type": "markdown",
      "metadata": {
        "id": "P-tDsQ8nJBRU"
      },
      "source": [
        "### ELU"
      ]
    },
    {
      "cell_type": "code",
      "metadata": {
        "id": "Zfl1mD32JBRY"
      },
      "source": [
        "# Hint: https://pytorch.org/docs/stable/generated/torch.nn.ELU.html?highlight=elu#torch.nn.ELU\n",
        "\n",
        "class elu(BaseActivation):\n",
        "    def __init__(self):\n",
        "        self.alpha = torch.empty(1).fill_(1.0).to(device).requires_grad_()\n",
        "        \n",
        "    def __call__(self, x):\n",
        "        ################ TODO ################\n",
        "        return torch.where(x>= 0, x, self.alpha * torch.add(torch.exp(x), torch.tensor(-1.0)))\n",
        "        ################ TODO ################\n",
        "    \n",
        "    def parameters(self):\n",
        "        return [self.alpha]"
      ],
      "execution_count": 9,
      "outputs": []
    },
    {
      "cell_type": "markdown",
      "metadata": {
        "id": "ofZduPjZMG68"
      },
      "source": [
        "###Your Custom Activation Function"
      ]
    },
    {
      "cell_type": "markdown",
      "metadata": {
        "id": "mBIhD1RRWN7e"
      },
      "source": [
        "saturated가 일어나지 않는 것과 동시에 exp 과 같이 기울기가 크게 증가하게 되지 않도록 고민하다가 Leaky ReLU에서 x>0 부분을 변형시켜보자는 의견이 있었습니다. 그래서 x^3, x^1.5 log(x) 등으로 다양하게 변형시켜서 해보다가 x^2에 계수를 PReLU처럼 alpha로 설정해서 해보았습니다. 이 때가 가장 성능이 좋았는데 이유는 아직 잘 모르겠습니다ㅠㅠ"
      ]
    },
    {
      "cell_type": "code",
      "metadata": {
        "id": "uwmfE8HYJBRi"
      },
      "source": [
        "# Custom activation을 만들어보세요.\n",
        "class my_activation(BaseActivation):\n",
        "    def __init__(self):\n",
        "        ################ TODO ################\n",
        "        self.negative_slope = torch.tensor(0.03)\n",
        "        # self.coef = torch.tensor(0.1)\n",
        "        self.coef = torch.empty(1).fill_(0.25).to(device).requires_grad_()\n",
        "        ################ TODO ################\n",
        "        \n",
        "    def __call__(self, x):\n",
        "        ################ TODO ################\n",
        "\n",
        "        return torch.where(x>= 0, self.coef*torch.square(x), self.negative_slope * x) # if) coef = 0.1 => best_acc: 0.8049\n",
        "        # return torch.where(x>= 0, torch.pow(x, 3), self.negative_slope * x) # => best_acc: 0.1686\n",
        "        # return torch.where(x>= 0, torch.square(x), self.negative_slope * x) # => best_acc : 0.6771\n",
        "        # return torch.where(x>= 0, torch.log(x), self.negative_slope * x) => best_acc : 0.1106\n",
        "        ################ TODO ################"
      ],
      "execution_count": 10,
      "outputs": []
    },
    {
      "cell_type": "markdown",
      "metadata": {
        "id": "YZ6IpM7PMNkS"
      },
      "source": [
        "# MNIST 손글씨 이미지 분류하기\n"
      ]
    },
    {
      "cell_type": "markdown",
      "metadata": {
        "id": "JhcqNwS4JrLF"
      },
      "source": [
        "### 하이퍼파라미터 세팅"
      ]
    },
    {
      "cell_type": "code",
      "metadata": {
        "id": "N-Ig8-UCJBPe"
      },
      "source": [
        "learning_rate = 0.01\n",
        "epochs = 10\n",
        "batch_size = 1024"
      ],
      "execution_count": 11,
      "outputs": []
    },
    {
      "cell_type": "markdown",
      "metadata": {
        "id": "atH1wDx6J4P4"
      },
      "source": [
        "### 데이터셋, 데이터 로더 정의"
      ]
    },
    {
      "cell_type": "code",
      "metadata": {
        "scrolled": false,
        "id": "vfp3nggsJBPh",
        "colab": {
          "base_uri": "https://localhost:8080/",
          "height": 834,
          "referenced_widgets": [
            "61e3709147474f6b8fd9551a0af6e247",
            "b19bf4a41dcf43499d237f4b62c41f90",
            "61abca1022094aa29518dbc60ac28cae",
            "2b73e5b36b0a42ec8c0f13abe922cef6",
            "48bd0d70aa6c48a58817e7b3c9941005",
            "d71cc449ecde4bcc988be130d0be76fb",
            "de4b523699324f52ac64cf54721fbe27",
            "3c5c19c1efa246d7b61a70277ebcce8a",
            "23cd071630a74734b4cf4da212f1bea5",
            "d38c391ab93e4bc4b8b1060ef6ed9ac9",
            "804ac519896d4e0e895fdd7149e632e6",
            "8102a6f2a7db4413b97ed526153b057c",
            "66c940fea9b8458f95fdafb3c5a89158",
            "41529302bbd34f2fb3b83005f3f42e5f",
            "825d634347f547939837a440e947d644",
            "bad591dc65d24091b09ffbef33944114",
            "eddcd969ad414c998c34813024927098",
            "6f5addcd772b4cb5adaad1caa221a04d",
            "9e9c467a9489472a83065d0744b867da",
            "c66e3e9d376447b2a962092b519e7f6b",
            "8ebf395333804efc94cd7f4a59d5ea30",
            "94823f0e224a4444be56cbe68b37533c",
            "f83ae60b8b4d4a7e946e3b53312057f1",
            "1daf557683a34b159cca53a3769de817",
            "3a37a43636f64e7285754217a008dc2d",
            "6123c96f6f6b4748aaf7c1a0d78e2ca1",
            "92b8e289729c445e8043562a853edab9",
            "29fea11834224dd4bbdd1363f687160a",
            "fabaef909bd34c71a45368dcb1193511",
            "25de7e5180674539bcab668a35e76d8c",
            "830029b6a5f342a493a1c0e0c93b1321",
            "58eb8c581b104b45a3d1d1a5a683eb60"
          ]
        },
        "outputId": "faac3de7-9037-47e2-bbef-394e617f0474"
      },
      "source": [
        "#손글씨 분류를 위한 데이터셋인 MNIST 데이터셋 다운로드\n",
        "\n",
        "mnist_train = dsets.MNIST(root='MNIST_data/', # 다운로드 경로 지정\n",
        "                          train=True, # True로 지정하면 훈련 데이터로 다운로드\n",
        "                          transform=transforms.ToTensor(), # 텐서 데이터로 변환\n",
        "                          download=True)\n",
        "\n",
        "mnist_test = dsets.MNIST(root='MNIST_data/', # 다운로드 경로 지정\n",
        "                         train=False, # False로 지정하면 테스트 데이터로 다운로드\n",
        "                         transform=transforms.ToTensor(), # 텐서 데이터로 변환\n",
        "                         download=True)"
      ],
      "execution_count": 12,
      "outputs": [
        {
          "output_type": "stream",
          "text": [
            "Downloading http://yann.lecun.com/exdb/mnist/train-images-idx3-ubyte.gz\n",
            "Failed to download (trying next):\n",
            "HTTP Error 503: Service Unavailable\n",
            "\n",
            "Downloading https://ossci-datasets.s3.amazonaws.com/mnist/train-images-idx3-ubyte.gz\n",
            "Downloading https://ossci-datasets.s3.amazonaws.com/mnist/train-images-idx3-ubyte.gz to MNIST_data/MNIST/raw/train-images-idx3-ubyte.gz\n"
          ],
          "name": "stdout"
        },
        {
          "output_type": "display_data",
          "data": {
            "application/vnd.jupyter.widget-view+json": {
              "model_id": "61e3709147474f6b8fd9551a0af6e247",
              "version_minor": 0,
              "version_major": 2
            },
            "text/plain": [
              "HBox(children=(FloatProgress(value=0.0, max=9912422.0), HTML(value='')))"
            ]
          },
          "metadata": {
            "tags": []
          }
        },
        {
          "output_type": "stream",
          "text": [
            "\n",
            "Extracting MNIST_data/MNIST/raw/train-images-idx3-ubyte.gz to MNIST_data/MNIST/raw\n",
            "\n",
            "Downloading http://yann.lecun.com/exdb/mnist/train-labels-idx1-ubyte.gz\n",
            "Failed to download (trying next):\n",
            "HTTP Error 503: Service Unavailable\n",
            "\n",
            "Downloading https://ossci-datasets.s3.amazonaws.com/mnist/train-labels-idx1-ubyte.gz\n",
            "Downloading https://ossci-datasets.s3.amazonaws.com/mnist/train-labels-idx1-ubyte.gz to MNIST_data/MNIST/raw/train-labels-idx1-ubyte.gz\n"
          ],
          "name": "stdout"
        },
        {
          "output_type": "display_data",
          "data": {
            "application/vnd.jupyter.widget-view+json": {
              "model_id": "23cd071630a74734b4cf4da212f1bea5",
              "version_minor": 0,
              "version_major": 2
            },
            "text/plain": [
              "HBox(children=(FloatProgress(value=0.0, max=28881.0), HTML(value='')))"
            ]
          },
          "metadata": {
            "tags": []
          }
        },
        {
          "output_type": "stream",
          "text": [
            "\n",
            "Extracting MNIST_data/MNIST/raw/train-labels-idx1-ubyte.gz to MNIST_data/MNIST/raw\n",
            "\n",
            "Downloading http://yann.lecun.com/exdb/mnist/t10k-images-idx3-ubyte.gz\n",
            "Failed to download (trying next):\n",
            "HTTP Error 503: Service Unavailable\n",
            "\n",
            "Downloading https://ossci-datasets.s3.amazonaws.com/mnist/t10k-images-idx3-ubyte.gz\n",
            "Downloading https://ossci-datasets.s3.amazonaws.com/mnist/t10k-images-idx3-ubyte.gz to MNIST_data/MNIST/raw/t10k-images-idx3-ubyte.gz\n"
          ],
          "name": "stdout"
        },
        {
          "output_type": "display_data",
          "data": {
            "application/vnd.jupyter.widget-view+json": {
              "model_id": "eddcd969ad414c998c34813024927098",
              "version_minor": 0,
              "version_major": 2
            },
            "text/plain": [
              "HBox(children=(FloatProgress(value=0.0, max=1648877.0), HTML(value='')))"
            ]
          },
          "metadata": {
            "tags": []
          }
        },
        {
          "output_type": "stream",
          "text": [
            "\n",
            "Extracting MNIST_data/MNIST/raw/t10k-images-idx3-ubyte.gz to MNIST_data/MNIST/raw\n",
            "\n",
            "Downloading http://yann.lecun.com/exdb/mnist/t10k-labels-idx1-ubyte.gz\n",
            "Failed to download (trying next):\n",
            "HTTP Error 503: Service Unavailable\n",
            "\n",
            "Downloading https://ossci-datasets.s3.amazonaws.com/mnist/t10k-labels-idx1-ubyte.gz\n",
            "Downloading https://ossci-datasets.s3.amazonaws.com/mnist/t10k-labels-idx1-ubyte.gz to MNIST_data/MNIST/raw/t10k-labels-idx1-ubyte.gz\n"
          ],
          "name": "stdout"
        },
        {
          "output_type": "display_data",
          "data": {
            "application/vnd.jupyter.widget-view+json": {
              "model_id": "3a37a43636f64e7285754217a008dc2d",
              "version_minor": 0,
              "version_major": 2
            },
            "text/plain": [
              "HBox(children=(FloatProgress(value=0.0, max=4542.0), HTML(value='')))"
            ]
          },
          "metadata": {
            "tags": []
          }
        },
        {
          "output_type": "stream",
          "text": [
            "\n",
            "Extracting MNIST_data/MNIST/raw/t10k-labels-idx1-ubyte.gz to MNIST_data/MNIST/raw\n",
            "\n"
          ],
          "name": "stdout"
        },
        {
          "output_type": "stream",
          "text": [
            "/usr/local/lib/python3.7/dist-packages/torchvision/datasets/mnist.py:498: UserWarning: The given NumPy array is not writeable, and PyTorch does not support non-writeable tensors. This means you can write to the underlying (supposedly non-writeable) NumPy array using the tensor. You may want to copy the array to protect its data or make it writeable before converting it to a tensor. This type of warning will be suppressed for the rest of this program. (Triggered internally at  /pytorch/torch/csrc/utils/tensor_numpy.cpp:180.)\n",
            "  return torch.from_numpy(parsed.astype(m[2], copy=False)).view(*s)\n"
          ],
          "name": "stderr"
        }
      ]
    },
    {
      "cell_type": "code",
      "metadata": {
        "id": "eHvC3MFAJBPm"
      },
      "source": [
        "# 다운로드 한 데이터셋을 이용해 데이터 로더 정의\n",
        "# 데이터 로더는 iterable type으로, 반복문을 사용하여 한 번에 배치 사이즈만큼 데이터를 불러올 수 있음\n",
        "\n",
        "data_loader = torch.utils.data.DataLoader(dataset=mnist_train,\n",
        "                                          batch_size=batch_size,\n",
        "                                          shuffle=True,\n",
        "                                          drop_last=True)\n",
        "\n",
        "total_batch = len(data_loader)  # Mini-batch의 개수 = (전체 데이터 수 / batch size)"
      ],
      "execution_count": 13,
      "outputs": []
    },
    {
      "cell_type": "markdown",
      "metadata": {
        "id": "FaTzesIsOPkE"
      },
      "source": [
        "### 모델(신경망) 구조 정의"
      ]
    },
    {
      "cell_type": "code",
      "metadata": {
        "id": "4lxQFEJcJBRl"
      },
      "source": [
        "class Net(torch.nn.Module):\n",
        "    def __init__(self, use):\n",
        "        super(Net, self).__init__()\n",
        "        self.fc1 = torch.nn.Linear(28*28, 64) # input image shape가 가로 28, 세로 28이므로 28*28\n",
        "        self.fc2 = torch.nn.Linear(64, 32)\n",
        "        self.fc3 = torch.nn.Linear(32, 16)\n",
        "        self.fc4 = torch.nn.Linear(16, 10) # 최종 예측 클래스 종류는 0~9, 10가지이므로 10개\n",
        "        \n",
        "        # 파라미터로 주어진 activation 종다르게 설정\n",
        "        if use == 'relu':\n",
        "            self.activation = relu()\n",
        "        elif use == 'sigmoid':\n",
        "            self.activation = sigmoid()\n",
        "        elif use == 'prelu':\n",
        "            self.activation = prelu()\n",
        "        elif use == 'leaky_relu':\n",
        "            self.activation = leakyrelu()\n",
        "        elif use == 'elu':\n",
        "            self.activation = elu()\n",
        "        elif use == 'custom':\n",
        "            self.activation = my_activation()\n",
        "            \n",
        "    # fc1 -> activation -> fc2\n",
        "    def forward(self, x):\n",
        "        x = x.view(-1, 784)\n",
        "        x = self.activation(self.fc1(x))\n",
        "        x = self.activation(self.fc2(x))\n",
        "        x = self.activation(self.fc3(x))\n",
        "        x = self.fc4(x)\n",
        "        return x"
      ],
      "execution_count": 14,
      "outputs": []
    },
    {
      "cell_type": "markdown",
      "metadata": {
        "id": "HypBuqJwOgxm"
      },
      "source": [
        "### 모델 Training"
      ]
    },
    {
      "cell_type": "code",
      "metadata": {
        "scrolled": false,
        "id": "ssB9q5IXJBRy"
      },
      "source": [
        "# 모델을 생성하고 학습시킨 후, 성능을 performance_dict에 저장하는 함수\n",
        "def train_eval(use):\n",
        "    global performance_dict\n",
        "    model = Net(use).to(device)\n",
        "    criterion = torch.nn.CrossEntropyLoss().to(device)\n",
        "    optimizer = torch.optim.Adam(list(model.parameters()) + model.activation.parameters(), lr=learning_rate)\n",
        "\n",
        "    start = time.time(); test_accs = []\n",
        "    print(f\"\\n###### Using Activation Function: {use.upper()} ######\")\n",
        "    for epoch in range(epochs):\n",
        "        avg_loss = 0\n",
        "        avg_acc = 0\n",
        "\n",
        "        for X, Y in data_loader:\n",
        "            X = X.to(device)\n",
        "            Y = Y.to(device)\n",
        "\n",
        "            optimizer.zero_grad()\n",
        "            prediction = model(X)\n",
        "            loss = criterion(prediction, Y)\n",
        "            acc = (torch.argmax(prediction, 1) == Y).float().mean().item()\n",
        "            loss.backward()\n",
        "            optimizer.step()\n",
        "\n",
        "            avg_loss += loss / total_batch\n",
        "            avg_acc += acc / total_batch\n",
        "\n",
        "        print(f'[Epoch: {epoch+1:>2}] train_loss: {avg_loss:.4f}, train_acc: {avg_acc:.4f}, ', end=\"\")\n",
        "\n",
        "        with torch.no_grad():\n",
        "            X_test = mnist_test.data.view(len(mnist_test), 1, 28, 28).float().to(device)\n",
        "            Y_test = mnist_test.targets.to(device)\n",
        "\n",
        "            test_prediction = model(X_test)\n",
        "            correct_prediction = torch.argmax(test_prediction, 1) == Y_test\n",
        "            test_accuracy = correct_prediction.float().mean().item()\n",
        "            test_accs.append(test_accuracy)\n",
        "            print(f\"test_acc: {test_accuracy:.4f}, best_acc: {max(test_accs):.4f}\")\n",
        "    \n",
        "    performance_dict[use] = {'time': time.time()-start, 'accuracy' : max(test_accs)}"
      ],
      "execution_count": 15,
      "outputs": []
    },
    {
      "cell_type": "markdown",
      "metadata": {
        "id": "nWh38u5AOmSC"
      },
      "source": [
        "### 성능 확인"
      ]
    },
    {
      "cell_type": "code",
      "metadata": {
        "id": "TMxze1x9JBR7",
        "colab": {
          "base_uri": "https://localhost:8080/",
          "height": 0
        },
        "outputId": "a7bfb5ad-9b16-4fd6-d845-db439dcc0369"
      },
      "source": [
        "performance_dict = {}\n",
        "for use in ['relu', 'sigmoid', 'prelu', 'leaky_relu', 'elu', 'custom']:   #위에서 정의한 각 활성화함수를 이용해 훈련\n",
        "    train_eval(use)\n",
        "performance_df = pd.DataFrame(performance_dict).T"
      ],
      "execution_count": 16,
      "outputs": [
        {
          "output_type": "stream",
          "text": [
            "\n",
            "###### Using Activation Function: RELU ######\n",
            "[Epoch:  1] train_loss: 0.8153, train_acc: 0.7293, test_acc: 0.9053, best_acc: 0.9053\n",
            "[Epoch:  2] train_loss: 0.2387, train_acc: 0.9306, test_acc: 0.9416, best_acc: 0.9416\n",
            "[Epoch:  3] train_loss: 0.1682, train_acc: 0.9501, test_acc: 0.9548, best_acc: 0.9548\n",
            "[Epoch:  4] train_loss: 0.1318, train_acc: 0.9600, test_acc: 0.9485, best_acc: 0.9548\n",
            "[Epoch:  5] train_loss: 0.1047, train_acc: 0.9690, test_acc: 0.9609, best_acc: 0.9609\n",
            "[Epoch:  6] train_loss: 0.0904, train_acc: 0.9723, test_acc: 0.9651, best_acc: 0.9651\n",
            "[Epoch:  7] train_loss: 0.0792, train_acc: 0.9754, test_acc: 0.9635, best_acc: 0.9651\n",
            "[Epoch:  8] train_loss: 0.0713, train_acc: 0.9777, test_acc: 0.9683, best_acc: 0.9683\n",
            "[Epoch:  9] train_loss: 0.0619, train_acc: 0.9812, test_acc: 0.9691, best_acc: 0.9691\n",
            "[Epoch: 10] train_loss: 0.0541, train_acc: 0.9833, test_acc: 0.9656, best_acc: 0.9691\n",
            "\n",
            "###### Using Activation Function: SIGMOID ######\n",
            "[Epoch:  1] train_loss: 1.7322, train_acc: 0.4706, test_acc: 0.8528, best_acc: 0.8528\n",
            "[Epoch:  2] train_loss: 0.5406, train_acc: 0.8907, test_acc: 0.9235, best_acc: 0.9235\n",
            "[Epoch:  3] train_loss: 0.2738, train_acc: 0.9368, test_acc: 0.9306, best_acc: 0.9306\n",
            "[Epoch:  4] train_loss: 0.1931, train_acc: 0.9530, test_acc: 0.9378, best_acc: 0.9378\n",
            "[Epoch:  5] train_loss: 0.1489, train_acc: 0.9633, test_acc: 0.9455, best_acc: 0.9455\n",
            "[Epoch:  6] train_loss: 0.1220, train_acc: 0.9688, test_acc: 0.9539, best_acc: 0.9539\n",
            "[Epoch:  7] train_loss: 0.1008, train_acc: 0.9745, test_acc: 0.9522, best_acc: 0.9539\n",
            "[Epoch:  8] train_loss: 0.0882, train_acc: 0.9777, test_acc: 0.9543, best_acc: 0.9543\n",
            "[Epoch:  9] train_loss: 0.0751, train_acc: 0.9801, test_acc: 0.9557, best_acc: 0.9557\n",
            "[Epoch: 10] train_loss: 0.0645, train_acc: 0.9837, test_acc: 0.9513, best_acc: 0.9557\n",
            "\n",
            "###### Using Activation Function: PRELU ######\n",
            "[Epoch:  1] train_loss: 0.6319, train_acc: 0.8082, test_acc: 0.9020, best_acc: 0.9020\n",
            "[Epoch:  2] train_loss: 0.2423, train_acc: 0.9289, test_acc: 0.9324, best_acc: 0.9324\n",
            "[Epoch:  3] train_loss: 0.1663, train_acc: 0.9505, test_acc: 0.9500, best_acc: 0.9500\n",
            "[Epoch:  4] train_loss: 0.1233, train_acc: 0.9635, test_acc: 0.9599, best_acc: 0.9599\n",
            "[Epoch:  5] train_loss: 0.1001, train_acc: 0.9705, test_acc: 0.9608, best_acc: 0.9608\n",
            "[Epoch:  6] train_loss: 0.0850, train_acc: 0.9744, test_acc: 0.9597, best_acc: 0.9608\n",
            "[Epoch:  7] train_loss: 0.0716, train_acc: 0.9783, test_acc: 0.9656, best_acc: 0.9656\n",
            "[Epoch:  8] train_loss: 0.0594, train_acc: 0.9820, test_acc: 0.9676, best_acc: 0.9676\n",
            "[Epoch:  9] train_loss: 0.0505, train_acc: 0.9843, test_acc: 0.9665, best_acc: 0.9676\n",
            "[Epoch: 10] train_loss: 0.0407, train_acc: 0.9872, test_acc: 0.9704, best_acc: 0.9704\n",
            "\n",
            "###### Using Activation Function: LEAKY_RELU ######\n",
            "[Epoch:  1] train_loss: 0.7548, train_acc: 0.7498, test_acc: 0.9212, best_acc: 0.9212\n",
            "[Epoch:  2] train_loss: 0.2118, train_acc: 0.9386, test_acc: 0.9471, best_acc: 0.9471\n",
            "[Epoch:  3] train_loss: 0.1455, train_acc: 0.9573, test_acc: 0.9592, best_acc: 0.9592\n",
            "[Epoch:  4] train_loss: 0.1112, train_acc: 0.9670, test_acc: 0.9631, best_acc: 0.9631\n",
            "[Epoch:  5] train_loss: 0.0894, train_acc: 0.9734, test_acc: 0.9651, best_acc: 0.9651\n",
            "[Epoch:  6] train_loss: 0.0758, train_acc: 0.9767, test_acc: 0.9679, best_acc: 0.9679\n",
            "[Epoch:  7] train_loss: 0.0696, train_acc: 0.9783, test_acc: 0.9691, best_acc: 0.9691\n",
            "[Epoch:  8] train_loss: 0.0566, train_acc: 0.9822, test_acc: 0.9712, best_acc: 0.9712\n",
            "[Epoch:  9] train_loss: 0.0524, train_acc: 0.9835, test_acc: 0.9672, best_acc: 0.9712\n",
            "[Epoch: 10] train_loss: 0.0441, train_acc: 0.9859, test_acc: 0.9673, best_acc: 0.9712\n",
            "\n",
            "###### Using Activation Function: ELU ######\n",
            "[Epoch:  1] train_loss: 0.5630, train_acc: 0.8277, test_acc: 0.8911, best_acc: 0.8911\n",
            "[Epoch:  2] train_loss: 0.1959, train_acc: 0.9417, test_acc: 0.9187, best_acc: 0.9187\n",
            "[Epoch:  3] train_loss: 0.1329, train_acc: 0.9598, test_acc: 0.9088, best_acc: 0.9187\n",
            "[Epoch:  4] train_loss: 0.1046, train_acc: 0.9681, test_acc: 0.8953, best_acc: 0.9187\n",
            "[Epoch:  5] train_loss: 0.0883, train_acc: 0.9725, test_acc: 0.9289, best_acc: 0.9289\n",
            "[Epoch:  6] train_loss: 0.0722, train_acc: 0.9773, test_acc: 0.8848, best_acc: 0.9289\n",
            "[Epoch:  7] train_loss: 0.0620, train_acc: 0.9800, test_acc: 0.8860, best_acc: 0.9289\n",
            "[Epoch:  8] train_loss: 0.0536, train_acc: 0.9829, test_acc: 0.9010, best_acc: 0.9289\n",
            "[Epoch:  9] train_loss: 0.0448, train_acc: 0.9854, test_acc: 0.8806, best_acc: 0.9289\n",
            "[Epoch: 10] train_loss: 0.0419, train_acc: 0.9867, test_acc: 0.8903, best_acc: 0.9289\n",
            "\n",
            "###### Using Activation Function: CUSTOM ######\n",
            "[Epoch:  1] train_loss: 1.4711, train_acc: 0.5622, test_acc: 0.8517, best_acc: 0.8517\n",
            "[Epoch:  2] train_loss: 0.4288, train_acc: 0.9010, test_acc: 0.8984, best_acc: 0.8984\n",
            "[Epoch:  3] train_loss: 0.2223, train_acc: 0.9434, test_acc: 0.8911, best_acc: 0.8984\n",
            "[Epoch:  4] train_loss: 0.1612, train_acc: 0.9570, test_acc: 0.8737, best_acc: 0.8984\n",
            "[Epoch:  5] train_loss: 0.1348, train_acc: 0.9632, test_acc: 0.8802, best_acc: 0.8984\n",
            "[Epoch:  6] train_loss: 0.1223, train_acc: 0.9648, test_acc: 0.8542, best_acc: 0.8984\n",
            "[Epoch:  7] train_loss: 0.0968, train_acc: 0.9723, test_acc: 0.8562, best_acc: 0.8984\n",
            "[Epoch:  8] train_loss: 0.0857, train_acc: 0.9748, test_acc: 0.8507, best_acc: 0.8984\n",
            "[Epoch:  9] train_loss: 0.0803, train_acc: 0.9765, test_acc: 0.8589, best_acc: 0.8984\n",
            "[Epoch: 10] train_loss: 0.0737, train_acc: 0.9790, test_acc: 0.8582, best_acc: 0.8984\n"
          ],
          "name": "stdout"
        }
      ]
    },
    {
      "cell_type": "code",
      "metadata": {
        "id": "tbbYtSWlJBR-",
        "colab": {
          "base_uri": "https://localhost:8080/",
          "height": 234
        },
        "outputId": "2acd7b48-350d-4cd0-d09d-86ac7e68d93d"
      },
      "source": [
        "performance_df"
      ],
      "execution_count": 17,
      "outputs": [
        {
          "output_type": "execute_result",
          "data": {
            "text/html": [
              "<div>\n",
              "<style scoped>\n",
              "    .dataframe tbody tr th:only-of-type {\n",
              "        vertical-align: middle;\n",
              "    }\n",
              "\n",
              "    .dataframe tbody tr th {\n",
              "        vertical-align: top;\n",
              "    }\n",
              "\n",
              "    .dataframe thead th {\n",
              "        text-align: right;\n",
              "    }\n",
              "</style>\n",
              "<table border=\"1\" class=\"dataframe\">\n",
              "  <thead>\n",
              "    <tr style=\"text-align: right;\">\n",
              "      <th></th>\n",
              "      <th>time</th>\n",
              "      <th>accuracy</th>\n",
              "    </tr>\n",
              "  </thead>\n",
              "  <tbody>\n",
              "    <tr>\n",
              "      <th>relu</th>\n",
              "      <td>73.080182</td>\n",
              "      <td>0.9691</td>\n",
              "    </tr>\n",
              "    <tr>\n",
              "      <th>sigmoid</th>\n",
              "      <td>73.898073</td>\n",
              "      <td>0.9557</td>\n",
              "    </tr>\n",
              "    <tr>\n",
              "      <th>prelu</th>\n",
              "      <td>73.758687</td>\n",
              "      <td>0.9704</td>\n",
              "    </tr>\n",
              "    <tr>\n",
              "      <th>leaky_relu</th>\n",
              "      <td>72.982317</td>\n",
              "      <td>0.9712</td>\n",
              "    </tr>\n",
              "    <tr>\n",
              "      <th>elu</th>\n",
              "      <td>73.660609</td>\n",
              "      <td>0.9289</td>\n",
              "    </tr>\n",
              "    <tr>\n",
              "      <th>custom</th>\n",
              "      <td>73.887656</td>\n",
              "      <td>0.8984</td>\n",
              "    </tr>\n",
              "  </tbody>\n",
              "</table>\n",
              "</div>"
            ],
            "text/plain": [
              "                 time  accuracy\n",
              "relu        73.080182    0.9691\n",
              "sigmoid     73.898073    0.9557\n",
              "prelu       73.758687    0.9704\n",
              "leaky_relu  72.982317    0.9712\n",
              "elu         73.660609    0.9289\n",
              "custom      73.887656    0.8984"
            ]
          },
          "metadata": {
            "tags": []
          },
          "execution_count": 17
        }
      ]
    },
    {
      "cell_type": "code",
      "metadata": {
        "id": "bblyiEm_JBSA",
        "colab": {
          "base_uri": "https://localhost:8080/",
          "height": 471
        },
        "outputId": "652646e8-db1b-4e32-f2a7-dcffb391b9ba"
      },
      "source": [
        "print(f\"Best Accuracy Activation Function was: {performance_df['accuracy'].max():.4f}, {performance_df.index[performance_df['accuracy'].argmax()]}\")\n",
        "print(f\"Custom Activation Function Accuracy Rank: {int(performance_df['accuracy'].rank(method='max', ascending=False)['custom'])}\")\n",
        "print(f\"Custom Activation Function Time Complexity Rank: {int(performance_df['time'].rank(method='min')['custom'])}\")\n",
        "\n",
        "plt.figure(figsize=(8, 6))\n",
        "sns.set_style('darkgrid')\n",
        "plt.rcParams.update({'font.size': 15})\n",
        "plt.title(\"Activation Function Compare Plot\")\n",
        "sns.scatterplot(data=performance_df, x='time', y='accuracy', hue=performance_df.index, s=100)\n",
        "plt.show()"
      ],
      "execution_count": 18,
      "outputs": [
        {
          "output_type": "stream",
          "text": [
            "Best Accuracy Activation Function was: 0.9712, leaky_relu\n",
            "Custom Activation Function Accuracy Rank: 6\n",
            "Custom Activation Function Time Complexity Rank: 5\n"
          ],
          "name": "stdout"
        },
        {
          "output_type": "display_data",
          "data": {
            "image/png": "[encoded data removed]",
            "text/plain": [
              "<Figure size 576x432 with 1 Axes>"
            ]
          },
          "metadata": {
            "tags": [],
            "needs_background": "light"
          }
        }
      ]
    },
    {
      "cell_type": "markdown",
      "metadata": {
        "id": "EyTos63GuQd2"
      },
      "source": [
        "\n",
        "# < 손글씨 이미지 분류 >\n",
        "\n",
        "5. ***손글씨 이미지 분류 성능이 활성화 함수에 따라 어떻게 달라지는지 확인해보세요.***\n",
        "\n",
        "\n",
        "6. ***가장 성능이 좋았던, 그리고 가장 빠르게 모델이 학습되었던 활성화 함수는 각각 무엇인가요? 정의된 모델 구조를 참고하여 왜 그러한 결과가 나왔는지 분석해주세요.***\n",
        "\n",
        "leaky Relu가 가장 빠르고 성능도 좋았습니다.\n",
        "\n",
        "relu, leaky ReLu가 다른 활성화함수를 쓴 모델에 비해 학습 속도가 빨랐던 이유는 함수 계산 내에서 exp연산이 없었고, 미분도 간단한 형태였기 때문이라고 추측할 수 있습니다.\n",
        "\n",
        "또한 relu와 relu에서 파생된 swish, prelu, leaky relu 모두 높은 정확도를 보였는데, 그 이유를 분석한 결과는 다음과 같습니다.\n",
        "\n",
        "위에 언급한 활성화 함수들은 모두 0이라는 어떤 임계점보다 높으면 크게 활성화되고 그보다 작으면 활성화정도를 거의 0에 가깝게 확 줄임으로써, 분류에 대한 활성화 역할을 하기 때문에 데이터셋의 특성 자체에 대한 성능면에서는 유의미하게 큰 차이는 보이지 않는 것 같습니다. 그리고 이렇게 분류하는 방식이 같은 숫자라 하더라도 손글씨로 인해 이미지의 편차가 심한 MNIST 데이터셋에 대해서는 정규화 능력(어떤 대상을 규칙이나 기준에 따르는 상태로 바꾸는 것)이 덜 해야한다는 점에 잘 부합하기 때문에 다른 활성화 함수에 비해 높은 성능을 보이는 것 같습니다. elu의 경우는 위의 활성화 함수들과 비슷한 듯 하지만 음의 영역에서 saturation 문제가 해결되지 않았습니다. elu는 오히려 이런 saturation으로 인해 noise를 거를 수 있는 능력이 더 좋다고 주장한다고 하는데, MNIST 데이터셋은 흰바탕에 검은색 손글씨만이 있는 이미지이기 때문에 noise가 다른 데이터셋보다 적고 그렇기 때문에 이런 점에서 elu가 staturation 문제가 해결된 다른 활성화 함수에 비해 정확도가 낮은 것 같습니다. \n",
        "sigmoid 역시 staturation이 있기 때문에 이러한 관점에서 elu와 비슷하게 이해할 수 있을 것 같습니다."
      ]
    }
  ]
}